{
 "cells": [
  {
   "cell_type": "markdown",
   "id": "3fc811b8",
   "metadata": {
    "id": "KJqp9AANOCtf",
    "papermill": {
     "duration": 0.011079,
     "end_time": "2023-04-04T21:07:00.118127",
     "exception": false,
     "start_time": "2023-04-04T21:07:00.107048",
     "status": "completed"
    },
    "tags": []
   },
   "source": [
    "---\n",
    "\n",
    "# Python: Projeto Final\n",
    "\n",
    "Projeto final do curso de Python que compõe a formação \"Cientista de Dados\" da **EBAC** - Escola Britânica de Artes Criativas e Tecnologia.\n",
    "\n",
    "---"
   ]
  },
  {
   "cell_type": "markdown",
   "id": "af7bfdc2",
   "metadata": {
    "id": "KzGBmo_sZaQP",
    "papermill": {
     "duration": 0.010066,
     "end_time": "2023-04-04T21:07:00.138567",
     "exception": false,
     "start_time": "2023-04-04T21:07:00.128501",
     "status": "completed"
    },
    "tags": []
   },
   "source": [
    "---\n",
    "\n",
    "## Objetivo\n",
    "\n",
    "Este projeto tem como objetivo realizar uma analise de crédito, para identificar possíveis clientes inadimplentes.\n",
    "\n",
    "Para o projeto, foi fornecido um conjunto de dados de crédito em um arquivo CSV, e serão feitas a exploração, manipulação, limpeza e visualização dos dados. Além de gerar os *insights* das analises realizadas. \n",
    "\n",
    "A coluna que indica adimplencia ou inadimplencia é a *default*, valores 0 e 1, respectivamente.\n",
    "\n",
    "---\n"
   ]
  },
  {
   "cell_type": "markdown",
   "id": "0b852328",
   "metadata": {
    "id": "I-HgD7lkbjpw",
    "papermill": {
     "duration": 0.009574,
     "end_time": "2023-04-04T21:07:00.158012",
     "exception": false,
     "start_time": "2023-04-04T21:07:00.148438",
     "status": "completed"
    },
    "tags": []
   },
   "source": [
    "## Importações"
   ]
  },
  {
   "cell_type": "code",
   "execution_count": 1,
   "id": "230d61f0",
   "metadata": {
    "execution": {
     "iopub.execute_input": "2023-04-04T21:07:00.180025Z",
     "iopub.status.busy": "2023-04-04T21:07:00.179410Z",
     "iopub.status.idle": "2023-04-04T21:07:01.519403Z",
     "shell.execute_reply": "2023-04-04T21:07:01.517923Z"
    },
    "id": "2y8zAhgFK1rs",
    "papermill": {
     "duration": 1.354721,
     "end_time": "2023-04-04T21:07:01.522551",
     "exception": false,
     "start_time": "2023-04-04T21:07:00.167830",
     "status": "completed"
    },
    "tags": []
   },
   "outputs": [],
   "source": [
    "import pandas as pd\n",
    "import seaborn as sns\n",
    "\n",
    "import matplotlib.pyplot as plt"
   ]
  },
  {
   "cell_type": "markdown",
   "id": "e8717c97",
   "metadata": {
    "id": "D5FJG4v2cTXw",
    "papermill": {
     "duration": 0.009549,
     "end_time": "2023-04-04T21:07:01.542175",
     "exception": false,
     "start_time": "2023-04-04T21:07:01.532626",
     "status": "completed"
    },
    "tags": []
   },
   "source": [
    "## Exploração dos dados"
   ]
  },
  {
   "cell_type": "code",
   "execution_count": 2,
   "id": "ad0e9ebf",
   "metadata": {
    "execution": {
     "iopub.execute_input": "2023-04-04T21:07:01.564995Z",
     "iopub.status.busy": "2023-04-04T21:07:01.564477Z",
     "iopub.status.idle": "2023-04-04T21:07:01.643898Z",
     "shell.execute_reply": "2023-04-04T21:07:01.642023Z"
    },
    "id": "TZnVxaSdcY-g",
    "papermill": {
     "duration": 0.094092,
     "end_time": "2023-04-04T21:07:01.646765",
     "exception": false,
     "start_time": "2023-04-04T21:07:01.552673",
     "status": "completed"
    },
    "tags": []
   },
   "outputs": [],
   "source": [
    "#Abertura e leitura do CSV\n",
    "df = pd.read_csv('/kaggle/input/ebac-basedados/Python_M10_support material.csv', na_values='na')"
   ]
  },
  {
   "cell_type": "code",
   "execution_count": 3,
   "id": "0709a296",
   "metadata": {
    "execution": {
     "iopub.execute_input": "2023-04-04T21:07:01.668430Z",
     "iopub.status.busy": "2023-04-04T21:07:01.667956Z",
     "iopub.status.idle": "2023-04-04T21:07:01.705305Z",
     "shell.execute_reply": "2023-04-04T21:07:01.703924Z"
    },
    "papermill": {
     "duration": 0.052145,
     "end_time": "2023-04-04T21:07:01.708742",
     "exception": false,
     "start_time": "2023-04-04T21:07:01.656597",
     "status": "completed"
    },
    "tags": []
   },
   "outputs": [
    {
     "data": {
      "text/html": [
       "<div>\n",
       "<style scoped>\n",
       "    .dataframe tbody tr th:only-of-type {\n",
       "        vertical-align: middle;\n",
       "    }\n",
       "\n",
       "    .dataframe tbody tr th {\n",
       "        vertical-align: top;\n",
       "    }\n",
       "\n",
       "    .dataframe thead th {\n",
       "        text-align: right;\n",
       "    }\n",
       "</style>\n",
       "<table border=\"1\" class=\"dataframe\">\n",
       "  <thead>\n",
       "    <tr style=\"text-align: right;\">\n",
       "      <th></th>\n",
       "      <th>id</th>\n",
       "      <th>default</th>\n",
       "      <th>idade</th>\n",
       "      <th>sexo</th>\n",
       "      <th>dependentes</th>\n",
       "      <th>escolaridade</th>\n",
       "      <th>estado_civil</th>\n",
       "      <th>salario_anual</th>\n",
       "      <th>tipo_cartao</th>\n",
       "      <th>meses_de_relacionamento</th>\n",
       "      <th>qtd_produtos</th>\n",
       "      <th>iteracoes_12m</th>\n",
       "      <th>meses_inativo_12m</th>\n",
       "      <th>limite_credito</th>\n",
       "      <th>valor_transacoes_12m</th>\n",
       "      <th>qtd_transacoes_12m</th>\n",
       "    </tr>\n",
       "  </thead>\n",
       "  <tbody>\n",
       "    <tr>\n",
       "      <th>0</th>\n",
       "      <td>768805383</td>\n",
       "      <td>0</td>\n",
       "      <td>45</td>\n",
       "      <td>M</td>\n",
       "      <td>3</td>\n",
       "      <td>ensino medio</td>\n",
       "      <td>casado</td>\n",
       "      <td>$60K - $80K</td>\n",
       "      <td>blue</td>\n",
       "      <td>39</td>\n",
       "      <td>5</td>\n",
       "      <td>3</td>\n",
       "      <td>1</td>\n",
       "      <td>12.691,51</td>\n",
       "      <td>1.144,90</td>\n",
       "      <td>42</td>\n",
       "    </tr>\n",
       "    <tr>\n",
       "      <th>1</th>\n",
       "      <td>818770008</td>\n",
       "      <td>0</td>\n",
       "      <td>49</td>\n",
       "      <td>F</td>\n",
       "      <td>5</td>\n",
       "      <td>mestrado</td>\n",
       "      <td>solteiro</td>\n",
       "      <td>menos que $40K</td>\n",
       "      <td>blue</td>\n",
       "      <td>44</td>\n",
       "      <td>6</td>\n",
       "      <td>2</td>\n",
       "      <td>1</td>\n",
       "      <td>8.256,96</td>\n",
       "      <td>1.291,45</td>\n",
       "      <td>33</td>\n",
       "    </tr>\n",
       "    <tr>\n",
       "      <th>2</th>\n",
       "      <td>713982108</td>\n",
       "      <td>0</td>\n",
       "      <td>51</td>\n",
       "      <td>M</td>\n",
       "      <td>3</td>\n",
       "      <td>mestrado</td>\n",
       "      <td>casado</td>\n",
       "      <td>$80K - $120K</td>\n",
       "      <td>blue</td>\n",
       "      <td>36</td>\n",
       "      <td>4</td>\n",
       "      <td>0</td>\n",
       "      <td>1</td>\n",
       "      <td>3.418,56</td>\n",
       "      <td>1.887,72</td>\n",
       "      <td>20</td>\n",
       "    </tr>\n",
       "    <tr>\n",
       "      <th>3</th>\n",
       "      <td>769911858</td>\n",
       "      <td>0</td>\n",
       "      <td>40</td>\n",
       "      <td>F</td>\n",
       "      <td>4</td>\n",
       "      <td>ensino medio</td>\n",
       "      <td>NaN</td>\n",
       "      <td>menos que $40K</td>\n",
       "      <td>blue</td>\n",
       "      <td>34</td>\n",
       "      <td>3</td>\n",
       "      <td>1</td>\n",
       "      <td>4</td>\n",
       "      <td>3.313,03</td>\n",
       "      <td>1.171,56</td>\n",
       "      <td>20</td>\n",
       "    </tr>\n",
       "    <tr>\n",
       "      <th>4</th>\n",
       "      <td>709106358</td>\n",
       "      <td>0</td>\n",
       "      <td>40</td>\n",
       "      <td>M</td>\n",
       "      <td>3</td>\n",
       "      <td>sem educacao formal</td>\n",
       "      <td>casado</td>\n",
       "      <td>$60K - $80K</td>\n",
       "      <td>blue</td>\n",
       "      <td>21</td>\n",
       "      <td>5</td>\n",
       "      <td>0</td>\n",
       "      <td>1</td>\n",
       "      <td>4.716,22</td>\n",
       "      <td>816,08</td>\n",
       "      <td>28</td>\n",
       "    </tr>\n",
       "  </tbody>\n",
       "</table>\n",
       "</div>"
      ],
      "text/plain": [
       "          id  default  idade sexo  dependentes         escolaridade  \\\n",
       "0  768805383        0     45    M            3         ensino medio   \n",
       "1  818770008        0     49    F            5             mestrado   \n",
       "2  713982108        0     51    M            3             mestrado   \n",
       "3  769911858        0     40    F            4         ensino medio   \n",
       "4  709106358        0     40    M            3  sem educacao formal   \n",
       "\n",
       "  estado_civil   salario_anual tipo_cartao  meses_de_relacionamento  \\\n",
       "0       casado     $60K - $80K        blue                       39   \n",
       "1     solteiro  menos que $40K        blue                       44   \n",
       "2       casado    $80K - $120K        blue                       36   \n",
       "3          NaN  menos que $40K        blue                       34   \n",
       "4       casado     $60K - $80K        blue                       21   \n",
       "\n",
       "   qtd_produtos  iteracoes_12m  meses_inativo_12m limite_credito  \\\n",
       "0             5              3                  1      12.691,51   \n",
       "1             6              2                  1       8.256,96   \n",
       "2             4              0                  1       3.418,56   \n",
       "3             3              1                  4       3.313,03   \n",
       "4             5              0                  1       4.716,22   \n",
       "\n",
       "  valor_transacoes_12m  qtd_transacoes_12m  \n",
       "0             1.144,90                  42  \n",
       "1             1.291,45                  33  \n",
       "2             1.887,72                  20  \n",
       "3             1.171,56                  20  \n",
       "4               816,08                  28  "
      ]
     },
     "execution_count": 3,
     "metadata": {},
     "output_type": "execute_result"
    }
   ],
   "source": [
    "df.head(n=5)"
   ]
  },
  {
   "cell_type": "code",
   "execution_count": 4,
   "id": "2cb8a63a",
   "metadata": {
    "execution": {
     "iopub.execute_input": "2023-04-04T21:07:01.731343Z",
     "iopub.status.busy": "2023-04-04T21:07:01.730918Z",
     "iopub.status.idle": "2023-04-04T21:07:01.748534Z",
     "shell.execute_reply": "2023-04-04T21:07:01.747536Z"
    },
    "papermill": {
     "duration": 0.032793,
     "end_time": "2023-04-04T21:07:01.751706",
     "exception": false,
     "start_time": "2023-04-04T21:07:01.718913",
     "status": "completed"
    },
    "tags": []
   },
   "outputs": [
    {
     "data": {
      "text/html": [
       "<div>\n",
       "<style scoped>\n",
       "    .dataframe tbody tr th:only-of-type {\n",
       "        vertical-align: middle;\n",
       "    }\n",
       "\n",
       "    .dataframe tbody tr th {\n",
       "        vertical-align: top;\n",
       "    }\n",
       "\n",
       "    .dataframe thead th {\n",
       "        text-align: right;\n",
       "    }\n",
       "</style>\n",
       "<table border=\"1\" class=\"dataframe\">\n",
       "  <thead>\n",
       "    <tr style=\"text-align: right;\">\n",
       "      <th></th>\n",
       "      <th>id</th>\n",
       "      <th>default</th>\n",
       "      <th>idade</th>\n",
       "      <th>sexo</th>\n",
       "      <th>dependentes</th>\n",
       "      <th>escolaridade</th>\n",
       "      <th>estado_civil</th>\n",
       "      <th>salario_anual</th>\n",
       "      <th>tipo_cartao</th>\n",
       "      <th>meses_de_relacionamento</th>\n",
       "      <th>qtd_produtos</th>\n",
       "      <th>iteracoes_12m</th>\n",
       "      <th>meses_inativo_12m</th>\n",
       "      <th>limite_credito</th>\n",
       "      <th>valor_transacoes_12m</th>\n",
       "      <th>qtd_transacoes_12m</th>\n",
       "    </tr>\n",
       "  </thead>\n",
       "  <tbody>\n",
       "    <tr>\n",
       "      <th>10122</th>\n",
       "      <td>772366833</td>\n",
       "      <td>0</td>\n",
       "      <td>50</td>\n",
       "      <td>M</td>\n",
       "      <td>2</td>\n",
       "      <td>mestrado</td>\n",
       "      <td>solteiro</td>\n",
       "      <td>$40K - $60K</td>\n",
       "      <td>blue</td>\n",
       "      <td>40</td>\n",
       "      <td>3</td>\n",
       "      <td>3</td>\n",
       "      <td>2</td>\n",
       "      <td>4.003,91</td>\n",
       "      <td>15.476,26</td>\n",
       "      <td>117</td>\n",
       "    </tr>\n",
       "    <tr>\n",
       "      <th>10123</th>\n",
       "      <td>710638233</td>\n",
       "      <td>1</td>\n",
       "      <td>41</td>\n",
       "      <td>M</td>\n",
       "      <td>2</td>\n",
       "      <td>NaN</td>\n",
       "      <td>divorciado</td>\n",
       "      <td>$40K - $60K</td>\n",
       "      <td>blue</td>\n",
       "      <td>25</td>\n",
       "      <td>4</td>\n",
       "      <td>3</td>\n",
       "      <td>2</td>\n",
       "      <td>4.277,04</td>\n",
       "      <td>8.764,88</td>\n",
       "      <td>69</td>\n",
       "    </tr>\n",
       "    <tr>\n",
       "      <th>10124</th>\n",
       "      <td>716506083</td>\n",
       "      <td>1</td>\n",
       "      <td>44</td>\n",
       "      <td>F</td>\n",
       "      <td>1</td>\n",
       "      <td>ensino medio</td>\n",
       "      <td>casado</td>\n",
       "      <td>menos que $40K</td>\n",
       "      <td>blue</td>\n",
       "      <td>36</td>\n",
       "      <td>5</td>\n",
       "      <td>4</td>\n",
       "      <td>3</td>\n",
       "      <td>5.409,16</td>\n",
       "      <td>10.291,78</td>\n",
       "      <td>60</td>\n",
       "    </tr>\n",
       "    <tr>\n",
       "      <th>10125</th>\n",
       "      <td>717406983</td>\n",
       "      <td>1</td>\n",
       "      <td>30</td>\n",
       "      <td>M</td>\n",
       "      <td>2</td>\n",
       "      <td>mestrado</td>\n",
       "      <td>NaN</td>\n",
       "      <td>$40K - $60K</td>\n",
       "      <td>blue</td>\n",
       "      <td>36</td>\n",
       "      <td>4</td>\n",
       "      <td>3</td>\n",
       "      <td>3</td>\n",
       "      <td>5.281,84</td>\n",
       "      <td>8.395,62</td>\n",
       "      <td>62</td>\n",
       "    </tr>\n",
       "    <tr>\n",
       "      <th>10126</th>\n",
       "      <td>714337233</td>\n",
       "      <td>1</td>\n",
       "      <td>43</td>\n",
       "      <td>F</td>\n",
       "      <td>2</td>\n",
       "      <td>mestrado</td>\n",
       "      <td>casado</td>\n",
       "      <td>menos que $40K</td>\n",
       "      <td>silver</td>\n",
       "      <td>25</td>\n",
       "      <td>6</td>\n",
       "      <td>4</td>\n",
       "      <td>2</td>\n",
       "      <td>10.388,80</td>\n",
       "      <td>10.294,96</td>\n",
       "      <td>61</td>\n",
       "    </tr>\n",
       "  </tbody>\n",
       "</table>\n",
       "</div>"
      ],
      "text/plain": [
       "              id  default  idade sexo  dependentes  escolaridade estado_civil  \\\n",
       "10122  772366833        0     50    M            2      mestrado     solteiro   \n",
       "10123  710638233        1     41    M            2           NaN   divorciado   \n",
       "10124  716506083        1     44    F            1  ensino medio       casado   \n",
       "10125  717406983        1     30    M            2      mestrado          NaN   \n",
       "10126  714337233        1     43    F            2      mestrado       casado   \n",
       "\n",
       "        salario_anual tipo_cartao  meses_de_relacionamento  qtd_produtos  \\\n",
       "10122     $40K - $60K        blue                       40             3   \n",
       "10123     $40K - $60K        blue                       25             4   \n",
       "10124  menos que $40K        blue                       36             5   \n",
       "10125     $40K - $60K        blue                       36             4   \n",
       "10126  menos que $40K      silver                       25             6   \n",
       "\n",
       "       iteracoes_12m  meses_inativo_12m limite_credito valor_transacoes_12m  \\\n",
       "10122              3                  2       4.003,91            15.476,26   \n",
       "10123              3                  2       4.277,04             8.764,88   \n",
       "10124              4                  3       5.409,16            10.291,78   \n",
       "10125              3                  3       5.281,84             8.395,62   \n",
       "10126              4                  2      10.388,80            10.294,96   \n",
       "\n",
       "       qtd_transacoes_12m  \n",
       "10122                 117  \n",
       "10123                  69  \n",
       "10124                  60  \n",
       "10125                  62  \n",
       "10126                  61  "
      ]
     },
     "execution_count": 4,
     "metadata": {},
     "output_type": "execute_result"
    }
   ],
   "source": [
    "df.tail(n=5)"
   ]
  },
  {
   "cell_type": "code",
   "execution_count": 5,
   "id": "252cc03f",
   "metadata": {
    "execution": {
     "iopub.execute_input": "2023-04-04T21:07:01.776327Z",
     "iopub.status.busy": "2023-04-04T21:07:01.775896Z",
     "iopub.status.idle": "2023-04-04T21:07:01.783279Z",
     "shell.execute_reply": "2023-04-04T21:07:01.781868Z"
    },
    "papermill": {
     "duration": 0.023294,
     "end_time": "2023-04-04T21:07:01.786126",
     "exception": false,
     "start_time": "2023-04-04T21:07:01.762832",
     "status": "completed"
    },
    "tags": []
   },
   "outputs": [
    {
     "name": "stdout",
     "output_type": "stream",
     "text": [
      "linhas=10127 colunas=16\n"
     ]
    }
   ],
   "source": [
    "tot_linhas, tot_colunas = df.shape\n",
    "print(f'linhas={tot_linhas} colunas={tot_colunas}')"
   ]
  },
  {
   "cell_type": "code",
   "execution_count": 6,
   "id": "bcea21b1",
   "metadata": {
    "execution": {
     "iopub.execute_input": "2023-04-04T21:07:01.810929Z",
     "iopub.status.busy": "2023-04-04T21:07:01.810446Z",
     "iopub.status.idle": "2023-04-04T21:07:01.820455Z",
     "shell.execute_reply": "2023-04-04T21:07:01.818998Z"
    },
    "papermill": {
     "duration": 0.027339,
     "end_time": "2023-04-04T21:07:01.823878",
     "exception": false,
     "start_time": "2023-04-04T21:07:01.796539",
     "status": "completed"
    },
    "tags": []
   },
   "outputs": [
    {
     "data": {
      "text/plain": [
       "id                          int64\n",
       "default                     int64\n",
       "idade                       int64\n",
       "sexo                       object\n",
       "dependentes                 int64\n",
       "escolaridade               object\n",
       "estado_civil               object\n",
       "salario_anual              object\n",
       "tipo_cartao                object\n",
       "meses_de_relacionamento     int64\n",
       "qtd_produtos                int64\n",
       "iteracoes_12m               int64\n",
       "meses_inativo_12m           int64\n",
       "limite_credito             object\n",
       "valor_transacoes_12m       object\n",
       "qtd_transacoes_12m          int64\n",
       "dtype: object"
      ]
     },
     "execution_count": 6,
     "metadata": {},
     "output_type": "execute_result"
    }
   ],
   "source": [
    "df.dtypes"
   ]
  },
  {
   "cell_type": "markdown",
   "id": "07c7e1bf",
   "metadata": {
    "papermill": {
     "duration": 0.010457,
     "end_time": "2023-04-04T21:07:01.844946",
     "exception": false,
     "start_time": "2023-04-04T21:07:01.834489",
     "status": "completed"
    },
    "tags": []
   },
   "source": [
    "### Colunas categóricas"
   ]
  },
  {
   "cell_type": "code",
   "execution_count": 7,
   "id": "1d480444",
   "metadata": {
    "execution": {
     "iopub.execute_input": "2023-04-04T21:07:01.869360Z",
     "iopub.status.busy": "2023-04-04T21:07:01.868835Z",
     "iopub.status.idle": "2023-04-04T21:07:01.926040Z",
     "shell.execute_reply": "2023-04-04T21:07:01.924598Z"
    },
    "papermill": {
     "duration": 0.073384,
     "end_time": "2023-04-04T21:07:01.928990",
     "exception": false,
     "start_time": "2023-04-04T21:07:01.855606",
     "status": "completed"
    },
    "tags": []
   },
   "outputs": [
    {
     "data": {
      "text/html": [
       "<div>\n",
       "<style scoped>\n",
       "    .dataframe tbody tr th:only-of-type {\n",
       "        vertical-align: middle;\n",
       "    }\n",
       "\n",
       "    .dataframe tbody tr th {\n",
       "        vertical-align: top;\n",
       "    }\n",
       "\n",
       "    .dataframe thead th {\n",
       "        text-align: right;\n",
       "    }\n",
       "</style>\n",
       "<table border=\"1\" class=\"dataframe\">\n",
       "  <thead>\n",
       "    <tr style=\"text-align: right;\">\n",
       "      <th></th>\n",
       "      <th>sexo</th>\n",
       "      <th>escolaridade</th>\n",
       "      <th>estado_civil</th>\n",
       "      <th>salario_anual</th>\n",
       "      <th>tipo_cartao</th>\n",
       "      <th>limite_credito</th>\n",
       "      <th>valor_transacoes_12m</th>\n",
       "    </tr>\n",
       "  </thead>\n",
       "  <tbody>\n",
       "    <tr>\n",
       "      <th>count</th>\n",
       "      <td>10127</td>\n",
       "      <td>8608</td>\n",
       "      <td>9378</td>\n",
       "      <td>9015</td>\n",
       "      <td>10127</td>\n",
       "      <td>10127</td>\n",
       "      <td>10127</td>\n",
       "    </tr>\n",
       "    <tr>\n",
       "      <th>unique</th>\n",
       "      <td>2</td>\n",
       "      <td>5</td>\n",
       "      <td>3</td>\n",
       "      <td>5</td>\n",
       "      <td>4</td>\n",
       "      <td>9272</td>\n",
       "      <td>10035</td>\n",
       "    </tr>\n",
       "    <tr>\n",
       "      <th>top</th>\n",
       "      <td>F</td>\n",
       "      <td>mestrado</td>\n",
       "      <td>casado</td>\n",
       "      <td>menos que $40K</td>\n",
       "      <td>blue</td>\n",
       "      <td>1.438,21</td>\n",
       "      <td>3.851,51</td>\n",
       "    </tr>\n",
       "    <tr>\n",
       "      <th>freq</th>\n",
       "      <td>5358</td>\n",
       "      <td>3128</td>\n",
       "      <td>4687</td>\n",
       "      <td>3561</td>\n",
       "      <td>9436</td>\n",
       "      <td>11</td>\n",
       "      <td>3</td>\n",
       "    </tr>\n",
       "  </tbody>\n",
       "</table>\n",
       "</div>"
      ],
      "text/plain": [
       "         sexo escolaridade estado_civil   salario_anual tipo_cartao  \\\n",
       "count   10127         8608         9378            9015       10127   \n",
       "unique      2            5            3               5           4   \n",
       "top         F     mestrado       casado  menos que $40K        blue   \n",
       "freq     5358         3128         4687            3561        9436   \n",
       "\n",
       "       limite_credito valor_transacoes_12m  \n",
       "count           10127                10127  \n",
       "unique           9272                10035  \n",
       "top          1.438,21             3.851,51  \n",
       "freq               11                    3  "
      ]
     },
     "execution_count": 7,
     "metadata": {},
     "output_type": "execute_result"
    }
   ],
   "source": [
    "df.describe(include=\"object\")"
   ]
  },
  {
   "cell_type": "markdown",
   "id": "bbad14b8",
   "metadata": {
    "papermill": {
     "duration": 0.010528,
     "end_time": "2023-04-04T21:07:01.950642",
     "exception": false,
     "start_time": "2023-04-04T21:07:01.940114",
     "status": "completed"
    },
    "tags": []
   },
   "source": [
    "Quantidade de dados faltantes por colunas"
   ]
  },
  {
   "cell_type": "code",
   "execution_count": 8,
   "id": "18a75a35",
   "metadata": {
    "execution": {
     "iopub.execute_input": "2023-04-04T21:07:01.975430Z",
     "iopub.status.busy": "2023-04-04T21:07:01.974988Z",
     "iopub.status.idle": "2023-04-04T21:07:01.992691Z",
     "shell.execute_reply": "2023-04-04T21:07:01.991683Z"
    },
    "papermill": {
     "duration": 0.032954,
     "end_time": "2023-04-04T21:07:01.995107",
     "exception": false,
     "start_time": "2023-04-04T21:07:01.962153",
     "status": "completed"
    },
    "tags": []
   },
   "outputs": [
    {
     "data": {
      "text/plain": [
       "sexo                       0\n",
       "escolaridade            1519\n",
       "estado_civil             749\n",
       "salario_anual           1112\n",
       "tipo_cartao                0\n",
       "limite_credito             0\n",
       "valor_transacoes_12m       0\n",
       "dtype: int64"
      ]
     },
     "execution_count": 8,
     "metadata": {},
     "output_type": "execute_result"
    }
   ],
   "source": [
    "df.select_dtypes(\"object\").isna().sum()"
   ]
  },
  {
   "cell_type": "markdown",
   "id": "b3d36851",
   "metadata": {
    "papermill": {
     "duration": 0.010556,
     "end_time": "2023-04-04T21:07:02.016607",
     "exception": false,
     "start_time": "2023-04-04T21:07:02.006051",
     "status": "completed"
    },
    "tags": []
   },
   "source": [
    "### Colunas numéricas"
   ]
  },
  {
   "cell_type": "code",
   "execution_count": 9,
   "id": "00e74cb6",
   "metadata": {
    "execution": {
     "iopub.execute_input": "2023-04-04T21:07:02.040544Z",
     "iopub.status.busy": "2023-04-04T21:07:02.040098Z",
     "iopub.status.idle": "2023-04-04T21:07:02.091532Z",
     "shell.execute_reply": "2023-04-04T21:07:02.090065Z"
    },
    "papermill": {
     "duration": 0.066765,
     "end_time": "2023-04-04T21:07:02.094313",
     "exception": false,
     "start_time": "2023-04-04T21:07:02.027548",
     "status": "completed"
    },
    "tags": []
   },
   "outputs": [
    {
     "data": {
      "text/html": [
       "<div>\n",
       "<style scoped>\n",
       "    .dataframe tbody tr th:only-of-type {\n",
       "        vertical-align: middle;\n",
       "    }\n",
       "\n",
       "    .dataframe tbody tr th {\n",
       "        vertical-align: top;\n",
       "    }\n",
       "\n",
       "    .dataframe thead th {\n",
       "        text-align: right;\n",
       "    }\n",
       "</style>\n",
       "<table border=\"1\" class=\"dataframe\">\n",
       "  <thead>\n",
       "    <tr style=\"text-align: right;\">\n",
       "      <th></th>\n",
       "      <th>default</th>\n",
       "      <th>idade</th>\n",
       "      <th>dependentes</th>\n",
       "      <th>meses_de_relacionamento</th>\n",
       "      <th>qtd_produtos</th>\n",
       "      <th>iteracoes_12m</th>\n",
       "      <th>meses_inativo_12m</th>\n",
       "      <th>qtd_transacoes_12m</th>\n",
       "    </tr>\n",
       "  </thead>\n",
       "  <tbody>\n",
       "    <tr>\n",
       "      <th>count</th>\n",
       "      <td>10127.000000</td>\n",
       "      <td>10127.000000</td>\n",
       "      <td>10127.000000</td>\n",
       "      <td>10127.000000</td>\n",
       "      <td>10127.000000</td>\n",
       "      <td>10127.000000</td>\n",
       "      <td>10127.000000</td>\n",
       "      <td>10127.000000</td>\n",
       "    </tr>\n",
       "    <tr>\n",
       "      <th>mean</th>\n",
       "      <td>0.160660</td>\n",
       "      <td>46.325960</td>\n",
       "      <td>2.346203</td>\n",
       "      <td>35.928409</td>\n",
       "      <td>3.812580</td>\n",
       "      <td>2.455317</td>\n",
       "      <td>2.341167</td>\n",
       "      <td>64.858695</td>\n",
       "    </tr>\n",
       "    <tr>\n",
       "      <th>std</th>\n",
       "      <td>0.367235</td>\n",
       "      <td>8.016814</td>\n",
       "      <td>1.298908</td>\n",
       "      <td>7.986416</td>\n",
       "      <td>1.554408</td>\n",
       "      <td>1.106225</td>\n",
       "      <td>1.010622</td>\n",
       "      <td>23.472570</td>\n",
       "    </tr>\n",
       "    <tr>\n",
       "      <th>min</th>\n",
       "      <td>0.000000</td>\n",
       "      <td>26.000000</td>\n",
       "      <td>0.000000</td>\n",
       "      <td>13.000000</td>\n",
       "      <td>1.000000</td>\n",
       "      <td>0.000000</td>\n",
       "      <td>0.000000</td>\n",
       "      <td>10.000000</td>\n",
       "    </tr>\n",
       "    <tr>\n",
       "      <th>25%</th>\n",
       "      <td>0.000000</td>\n",
       "      <td>41.000000</td>\n",
       "      <td>1.000000</td>\n",
       "      <td>31.000000</td>\n",
       "      <td>3.000000</td>\n",
       "      <td>2.000000</td>\n",
       "      <td>2.000000</td>\n",
       "      <td>45.000000</td>\n",
       "    </tr>\n",
       "    <tr>\n",
       "      <th>50%</th>\n",
       "      <td>0.000000</td>\n",
       "      <td>46.000000</td>\n",
       "      <td>2.000000</td>\n",
       "      <td>36.000000</td>\n",
       "      <td>4.000000</td>\n",
       "      <td>2.000000</td>\n",
       "      <td>2.000000</td>\n",
       "      <td>67.000000</td>\n",
       "    </tr>\n",
       "    <tr>\n",
       "      <th>75%</th>\n",
       "      <td>0.000000</td>\n",
       "      <td>52.000000</td>\n",
       "      <td>3.000000</td>\n",
       "      <td>40.000000</td>\n",
       "      <td>5.000000</td>\n",
       "      <td>3.000000</td>\n",
       "      <td>3.000000</td>\n",
       "      <td>81.000000</td>\n",
       "    </tr>\n",
       "    <tr>\n",
       "      <th>max</th>\n",
       "      <td>1.000000</td>\n",
       "      <td>73.000000</td>\n",
       "      <td>5.000000</td>\n",
       "      <td>56.000000</td>\n",
       "      <td>6.000000</td>\n",
       "      <td>6.000000</td>\n",
       "      <td>6.000000</td>\n",
       "      <td>139.000000</td>\n",
       "    </tr>\n",
       "  </tbody>\n",
       "</table>\n",
       "</div>"
      ],
      "text/plain": [
       "            default         idade   dependentes  meses_de_relacionamento  \\\n",
       "count  10127.000000  10127.000000  10127.000000             10127.000000   \n",
       "mean       0.160660     46.325960      2.346203                35.928409   \n",
       "std        0.367235      8.016814      1.298908                 7.986416   \n",
       "min        0.000000     26.000000      0.000000                13.000000   \n",
       "25%        0.000000     41.000000      1.000000                31.000000   \n",
       "50%        0.000000     46.000000      2.000000                36.000000   \n",
       "75%        0.000000     52.000000      3.000000                40.000000   \n",
       "max        1.000000     73.000000      5.000000                56.000000   \n",
       "\n",
       "       qtd_produtos  iteracoes_12m  meses_inativo_12m  qtd_transacoes_12m  \n",
       "count  10127.000000   10127.000000       10127.000000        10127.000000  \n",
       "mean       3.812580       2.455317           2.341167           64.858695  \n",
       "std        1.554408       1.106225           1.010622           23.472570  \n",
       "min        1.000000       0.000000           0.000000           10.000000  \n",
       "25%        3.000000       2.000000           2.000000           45.000000  \n",
       "50%        4.000000       2.000000           2.000000           67.000000  \n",
       "75%        5.000000       3.000000           3.000000           81.000000  \n",
       "max        6.000000       6.000000           6.000000          139.000000  "
      ]
     },
     "execution_count": 9,
     "metadata": {},
     "output_type": "execute_result"
    }
   ],
   "source": [
    "df.drop('id', axis=1).describe(include=\"number\")"
   ]
  },
  {
   "cell_type": "code",
   "execution_count": 10,
   "id": "1cd26dba",
   "metadata": {
    "execution": {
     "iopub.execute_input": "2023-04-04T21:07:02.119252Z",
     "iopub.status.busy": "2023-04-04T21:07:02.118769Z",
     "iopub.status.idle": "2023-04-04T21:07:02.128681Z",
     "shell.execute_reply": "2023-04-04T21:07:02.127105Z"
    },
    "papermill": {
     "duration": 0.025393,
     "end_time": "2023-04-04T21:07:02.131150",
     "exception": false,
     "start_time": "2023-04-04T21:07:02.105757",
     "status": "completed"
    },
    "tags": []
   },
   "outputs": [
    {
     "name": "stdout",
     "output_type": "stream",
     "text": [
      "total adimplentes = 8500 /// 83.93% do total\n"
     ]
    }
   ],
   "source": [
    "tot_adimplente = df[df['default']==0].shape[0]\n",
    "\n",
    "print(f'total adimplentes = {tot_adimplente} /// {round(100*tot_adimplente/tot_linhas,2)}% do total')"
   ]
  },
  {
   "cell_type": "code",
   "execution_count": 11,
   "id": "d7d1d13b",
   "metadata": {
    "execution": {
     "iopub.execute_input": "2023-04-04T21:07:02.156135Z",
     "iopub.status.busy": "2023-04-04T21:07:02.155684Z",
     "iopub.status.idle": "2023-04-04T21:07:02.164485Z",
     "shell.execute_reply": "2023-04-04T21:07:02.163074Z"
    },
    "papermill": {
     "duration": 0.024955,
     "end_time": "2023-04-04T21:07:02.167369",
     "exception": false,
     "start_time": "2023-04-04T21:07:02.142414",
     "status": "completed"
    },
    "tags": []
   },
   "outputs": [
    {
     "name": "stdout",
     "output_type": "stream",
     "text": [
      "total inadimplentes = 1627 /// 16.07% do total\n"
     ]
    }
   ],
   "source": [
    "tot_inadimplente = df[df['default']==1].shape[0]\n",
    "\n",
    "print(f'total inadimplentes = {tot_inadimplente} /// {round(100*tot_inadimplente/tot_linhas,2)}% do total')"
   ]
  },
  {
   "cell_type": "markdown",
   "id": "10d9d1f5",
   "metadata": {
    "papermill": {
     "duration": 0.011134,
     "end_time": "2023-04-04T21:07:02.189831",
     "exception": false,
     "start_time": "2023-04-04T21:07:02.178697",
     "status": "completed"
    },
    "tags": []
   },
   "source": [
    "Verificar se a proporção de dados faltantes é a mesma para os adimplentes e inadimplentes"
   ]
  },
  {
   "cell_type": "code",
   "execution_count": 12,
   "id": "7795e10c",
   "metadata": {
    "execution": {
     "iopub.execute_input": "2023-04-04T21:07:02.215568Z",
     "iopub.status.busy": "2023-04-04T21:07:02.215098Z",
     "iopub.status.idle": "2023-04-04T21:07:02.222709Z",
     "shell.execute_reply": "2023-04-04T21:07:02.221272Z"
    },
    "papermill": {
     "duration": 0.02381,
     "end_time": "2023-04-04T21:07:02.225688",
     "exception": false,
     "start_time": "2023-04-04T21:07:02.201878",
     "status": "completed"
    },
    "tags": []
   },
   "outputs": [],
   "source": [
    "def qtde_faltantes_por_coluna(df: pd.DataFrame) -> None:\n",
    "    \n",
    "    for coluna in df.columns:\n",
    "        \n",
    "        if df[coluna].isna().any():\n",
    "            \n",
    "            qtde_tot,_ = df.shape\n",
    "            qtde_na,_ = df[ df[coluna].isna() ].shape\n",
    "            \n",
    "            print(f'coluna {coluna}: qtde faltantes={qtde_na} /// {round(100*qtde_na/qtde_tot,2)}% do total')"
   ]
  },
  {
   "cell_type": "code",
   "execution_count": 13,
   "id": "144e7a79",
   "metadata": {
    "execution": {
     "iopub.execute_input": "2023-04-04T21:07:02.250873Z",
     "iopub.status.busy": "2023-04-04T21:07:02.250367Z",
     "iopub.status.idle": "2023-04-04T21:07:02.279086Z",
     "shell.execute_reply": "2023-04-04T21:07:02.277464Z"
    },
    "papermill": {
     "duration": 0.044624,
     "end_time": "2023-04-04T21:07:02.281850",
     "exception": false,
     "start_time": "2023-04-04T21:07:02.237226",
     "status": "completed"
    },
    "tags": []
   },
   "outputs": [
    {
     "name": "stdout",
     "output_type": "stream",
     "text": [
      "coluna escolaridade: qtde faltantes=1263 /// 14.86% do total\n",
      "coluna estado_civil: qtde faltantes=620 /// 7.29% do total\n",
      "coluna salario_anual: qtde faltantes=925 /// 10.88% do total\n",
      "----------------------------------------------------------\n",
      "coluna escolaridade: qtde faltantes=256 /// 15.73% do total\n",
      "coluna estado_civil: qtde faltantes=129 /// 7.93% do total\n",
      "coluna salario_anual: qtde faltantes=187 /// 11.49% do total\n"
     ]
    }
   ],
   "source": [
    "#Proporção de dados faltantes para os clientes adimplentes\n",
    "qtde_faltantes_por_coluna(df[df['default']==0])\n",
    "\n",
    "print('----------------------------------------------------------')\n",
    "\n",
    "#Proporção de dados faltantes para os clientes inadimplmentes\n",
    "qtde_faltantes_por_coluna(df[df['default']==1])"
   ]
  },
  {
   "cell_type": "markdown",
   "id": "be4f8bba",
   "metadata": {
    "papermill": {
     "duration": 0.011218,
     "end_time": "2023-04-04T21:07:02.304531",
     "exception": false,
     "start_time": "2023-04-04T21:07:02.293313",
     "status": "completed"
    },
    "tags": []
   },
   "source": [
    "Como as proporções acima são equivalentes, será possível remover as tuplas com dados faltantes no dataset"
   ]
  },
  {
   "cell_type": "markdown",
   "id": "ef49cac3",
   "metadata": {
    "id": "y9Jx_LUycbFJ",
    "papermill": {
     "duration": 0.011571,
     "end_time": "2023-04-04T21:07:02.327403",
     "exception": false,
     "start_time": "2023-04-04T21:07:02.315832",
     "status": "completed"
    },
    "tags": []
   },
   "source": [
    "## Transformação e limpeza dos dados"
   ]
  },
  {
   "cell_type": "markdown",
   "id": "34e4b108",
   "metadata": {
    "papermill": {
     "duration": 0.012201,
     "end_time": "2023-04-04T21:07:02.350920",
     "exception": false,
     "start_time": "2023-04-04T21:07:02.338719",
     "status": "completed"
    },
    "tags": []
   },
   "source": [
    "Remoção das linhas com dados faltantes"
   ]
  },
  {
   "cell_type": "code",
   "execution_count": 14,
   "id": "269a8cca",
   "metadata": {
    "execution": {
     "iopub.execute_input": "2023-04-04T21:07:02.376581Z",
     "iopub.status.busy": "2023-04-04T21:07:02.376108Z",
     "iopub.status.idle": "2023-04-04T21:07:02.403467Z",
     "shell.execute_reply": "2023-04-04T21:07:02.401781Z"
    },
    "id": "m4eexYgOcgeZ",
    "papermill": {
     "duration": 0.044005,
     "end_time": "2023-04-04T21:07:02.406188",
     "exception": false,
     "start_time": "2023-04-04T21:07:02.362183",
     "status": "completed"
    },
    "tags": []
   },
   "outputs": [
    {
     "name": "stdout",
     "output_type": "stream",
     "text": [
      "id                            0\n",
      "default                       0\n",
      "idade                         0\n",
      "sexo                          0\n",
      "dependentes                   0\n",
      "escolaridade               1519\n",
      "estado_civil                749\n",
      "salario_anual              1112\n",
      "tipo_cartao                   0\n",
      "meses_de_relacionamento       0\n",
      "qtd_produtos                  0\n",
      "iteracoes_12m                 0\n",
      "meses_inativo_12m             0\n",
      "limite_credito                0\n",
      "valor_transacoes_12m          0\n",
      "qtd_transacoes_12m            0\n",
      "dtype: int64\n",
      "=========================================\n",
      "id                         0\n",
      "default                    0\n",
      "idade                      0\n",
      "sexo                       0\n",
      "dependentes                0\n",
      "escolaridade               0\n",
      "estado_civil               0\n",
      "salario_anual              0\n",
      "tipo_cartao                0\n",
      "meses_de_relacionamento    0\n",
      "qtd_produtos               0\n",
      "iteracoes_12m              0\n",
      "meses_inativo_12m          0\n",
      "limite_credito             0\n",
      "valor_transacoes_12m       0\n",
      "qtd_transacoes_12m         0\n",
      "dtype: int64\n"
     ]
    }
   ],
   "source": [
    "#Qtde de NaN por coluna antes da remoção\n",
    "print(df.isna().sum())\n",
    "\n",
    "print(\"=========================================\")\n",
    "\n",
    "#Remove as linhas com valores NaN\n",
    "df.dropna(inplace=True)\n",
    "\n",
    "#Qtde de NaN por coluna após remoção\n",
    "print(df.isna().sum())"
   ]
  },
  {
   "cell_type": "markdown",
   "id": "d31300f5",
   "metadata": {
    "papermill": {
     "duration": 0.01131,
     "end_time": "2023-04-04T21:07:02.429472",
     "exception": false,
     "start_time": "2023-04-04T21:07:02.418162",
     "status": "completed"
    },
    "tags": []
   },
   "source": [
    "Alterando as colunas \"limite_credito\" e \"valor_transacoes_12m\" para float"
   ]
  },
  {
   "cell_type": "code",
   "execution_count": 15,
   "id": "0b32a2e7",
   "metadata": {
    "execution": {
     "iopub.execute_input": "2023-04-04T21:07:02.455529Z",
     "iopub.status.busy": "2023-04-04T21:07:02.455086Z",
     "iopub.status.idle": "2023-04-04T21:07:02.471250Z",
     "shell.execute_reply": "2023-04-04T21:07:02.469551Z"
    },
    "papermill": {
     "duration": 0.032547,
     "end_time": "2023-04-04T21:07:02.473967",
     "exception": false,
     "start_time": "2023-04-04T21:07:02.441420",
     "status": "completed"
    },
    "tags": []
   },
   "outputs": [
    {
     "data": {
      "text/html": [
       "<div>\n",
       "<style scoped>\n",
       "    .dataframe tbody tr th:only-of-type {\n",
       "        vertical-align: middle;\n",
       "    }\n",
       "\n",
       "    .dataframe tbody tr th {\n",
       "        vertical-align: top;\n",
       "    }\n",
       "\n",
       "    .dataframe thead th {\n",
       "        text-align: right;\n",
       "    }\n",
       "</style>\n",
       "<table border=\"1\" class=\"dataframe\">\n",
       "  <thead>\n",
       "    <tr style=\"text-align: right;\">\n",
       "      <th></th>\n",
       "      <th>limite_credito</th>\n",
       "      <th>valor_transacoes_12m</th>\n",
       "    </tr>\n",
       "  </thead>\n",
       "  <tbody>\n",
       "    <tr>\n",
       "      <th>0</th>\n",
       "      <td>12.691,51</td>\n",
       "      <td>1.144,90</td>\n",
       "    </tr>\n",
       "    <tr>\n",
       "      <th>1</th>\n",
       "      <td>8.256,96</td>\n",
       "      <td>1.291,45</td>\n",
       "    </tr>\n",
       "    <tr>\n",
       "      <th>2</th>\n",
       "      <td>3.418,56</td>\n",
       "      <td>1.887,72</td>\n",
       "    </tr>\n",
       "    <tr>\n",
       "      <th>4</th>\n",
       "      <td>4.716,22</td>\n",
       "      <td>816,08</td>\n",
       "    </tr>\n",
       "    <tr>\n",
       "      <th>5</th>\n",
       "      <td>4.010,69</td>\n",
       "      <td>1.088,07</td>\n",
       "    </tr>\n",
       "  </tbody>\n",
       "</table>\n",
       "</div>"
      ],
      "text/plain": [
       "  limite_credito valor_transacoes_12m\n",
       "0      12.691,51             1.144,90\n",
       "1       8.256,96             1.291,45\n",
       "2       3.418,56             1.887,72\n",
       "4       4.716,22               816,08\n",
       "5       4.010,69             1.088,07"
      ]
     },
     "execution_count": 15,
     "metadata": {},
     "output_type": "execute_result"
    }
   ],
   "source": [
    "colunas = ['limite_credito', 'valor_transacoes_12m']\n",
    "df[colunas].head(n=5)"
   ]
  },
  {
   "cell_type": "code",
   "execution_count": 16,
   "id": "84e4f07b",
   "metadata": {
    "execution": {
     "iopub.execute_input": "2023-04-04T21:07:02.502304Z",
     "iopub.status.busy": "2023-04-04T21:07:02.501822Z",
     "iopub.status.idle": "2023-04-04T21:07:02.524385Z",
     "shell.execute_reply": "2023-04-04T21:07:02.522920Z"
    },
    "papermill": {
     "duration": 0.040726,
     "end_time": "2023-04-04T21:07:02.527357",
     "exception": false,
     "start_time": "2023-04-04T21:07:02.486631",
     "status": "completed"
    },
    "tags": []
   },
   "outputs": [],
   "source": [
    "#funcao para converter cada linha da coluna\n",
    "funcao = lambda valor: float( valor.replace(\".\", \"\").replace(\",\", \".\") )\n",
    "\n",
    "#aplica para a coluna \"limite_credito\"\n",
    "df['limite_credito'] = df['limite_credito'].apply(funcao)\n",
    "\n",
    "#aplica para a coluna \"valor_transacoes_12m\"\n",
    "df['valor_transacoes_12m'] = df['valor_transacoes_12m'].apply(funcao)"
   ]
  },
  {
   "cell_type": "code",
   "execution_count": 17,
   "id": "a7e3d1ad",
   "metadata": {
    "execution": {
     "iopub.execute_input": "2023-04-04T21:07:02.554684Z",
     "iopub.status.busy": "2023-04-04T21:07:02.554202Z",
     "iopub.status.idle": "2023-04-04T21:07:02.568440Z",
     "shell.execute_reply": "2023-04-04T21:07:02.566830Z"
    },
    "papermill": {
     "duration": 0.031751,
     "end_time": "2023-04-04T21:07:02.571209",
     "exception": false,
     "start_time": "2023-04-04T21:07:02.539458",
     "status": "completed"
    },
    "tags": []
   },
   "outputs": [
    {
     "data": {
      "text/plain": [
       "limite_credito          float64\n",
       "valor_transacoes_12m    float64\n",
       "dtype: object"
      ]
     },
     "execution_count": 17,
     "metadata": {},
     "output_type": "execute_result"
    }
   ],
   "source": [
    "colunas = ['limite_credito', 'valor_transacoes_12m']\n",
    "df[colunas].dtypes.head(n=5)"
   ]
  },
  {
   "cell_type": "markdown",
   "id": "6b76b64e",
   "metadata": {
    "id": "hSQ8p2gXclY3",
    "papermill": {
     "duration": 0.012469,
     "end_time": "2023-04-04T21:07:02.597069",
     "exception": false,
     "start_time": "2023-04-04T21:07:02.584600",
     "status": "completed"
    },
    "tags": []
   },
   "source": [
    "## Visualização dos dados"
   ]
  },
  {
   "cell_type": "code",
   "execution_count": 18,
   "id": "ee947846",
   "metadata": {
    "execution": {
     "iopub.execute_input": "2023-04-04T21:07:02.623993Z",
     "iopub.status.busy": "2023-04-04T21:07:02.623526Z",
     "iopub.status.idle": "2023-04-04T21:07:02.630889Z",
     "shell.execute_reply": "2023-04-04T21:07:02.628792Z"
    },
    "papermill": {
     "duration": 0.024931,
     "end_time": "2023-04-04T21:07:02.633910",
     "exception": false,
     "start_time": "2023-04-04T21:07:02.608979",
     "status": "completed"
    },
    "tags": []
   },
   "outputs": [],
   "source": [
    "#Estilo basico dos gráficos\n",
    "sns.set_style(\"whitegrid\")"
   ]
  },
  {
   "cell_type": "markdown",
   "id": "02dca589",
   "metadata": {
    "papermill": {
     "duration": 0.012342,
     "end_time": "2023-04-04T21:07:02.658261",
     "exception": false,
     "start_time": "2023-04-04T21:07:02.645919",
     "status": "completed"
    },
    "tags": []
   },
   "source": [
    "Gero um dataframe pra cada default (adimplentes/inadimplentes)"
   ]
  },
  {
   "cell_type": "code",
   "execution_count": 19,
   "id": "75045993",
   "metadata": {
    "execution": {
     "iopub.execute_input": "2023-04-04T21:07:02.685344Z",
     "iopub.status.busy": "2023-04-04T21:07:02.684875Z",
     "iopub.status.idle": "2023-04-04T21:07:02.696024Z",
     "shell.execute_reply": "2023-04-04T21:07:02.694090Z"
    },
    "id": "veUP8_RKc_8Z",
    "papermill": {
     "duration": 0.027948,
     "end_time": "2023-04-04T21:07:02.699093",
     "exception": false,
     "start_time": "2023-04-04T21:07:02.671145",
     "status": "completed"
    },
    "tags": []
   },
   "outputs": [],
   "source": [
    "df_adimplente = df[ df['default'] == 0 ]\n",
    "df_inadimplente = df[ df['default'] == 1 ]"
   ]
  },
  {
   "cell_type": "markdown",
   "id": "57f8712a",
   "metadata": {
    "papermill": {
     "duration": 0.01145,
     "end_time": "2023-04-04T21:07:02.722528",
     "exception": false,
     "start_time": "2023-04-04T21:07:02.711078",
     "status": "completed"
    },
    "tags": []
   },
   "source": [
    "Comparação da escolaridade X adimplencia"
   ]
  },
  {
   "cell_type": "code",
   "execution_count": 20,
   "id": "2d3959f5",
   "metadata": {
    "execution": {
     "iopub.execute_input": "2023-04-04T21:07:02.750079Z",
     "iopub.status.busy": "2023-04-04T21:07:02.749622Z",
     "iopub.status.idle": "2023-04-04T21:07:02.763477Z",
     "shell.execute_reply": "2023-04-04T21:07:02.762064Z"
    },
    "papermill": {
     "duration": 0.032831,
     "end_time": "2023-04-04T21:07:02.767446",
     "exception": false,
     "start_time": "2023-04-04T21:07:02.734615",
     "status": "completed"
    },
    "tags": []
   },
   "outputs": [
    {
     "name": "stdout",
     "output_type": "stream",
     "text": [
      "['ensino medio' 'mestrado' 'sem educacao formal' 'graduacao' 'doutorado']\n"
     ]
    },
    {
     "data": {
      "text/plain": [
       "mestrado               2591\n",
       "ensino medio           1653\n",
       "sem educacao formal    1204\n",
       "graduacao               844\n",
       "doutorado               789\n",
       "Name: escolaridade, dtype: int64"
      ]
     },
     "execution_count": 20,
     "metadata": {},
     "output_type": "execute_result"
    }
   ],
   "source": [
    "lista_escolaridades = df_adimplente['escolaridade'].unique()\n",
    "print(lista_escolaridades)\n",
    "\n",
    "df['escolaridade'].value_counts()"
   ]
  },
  {
   "cell_type": "code",
   "execution_count": 21,
   "id": "d251d619",
   "metadata": {
    "execution": {
     "iopub.execute_input": "2023-04-04T21:07:02.793909Z",
     "iopub.status.busy": "2023-04-04T21:07:02.793389Z",
     "iopub.status.idle": "2023-04-04T21:07:03.563273Z",
     "shell.execute_reply": "2023-04-04T21:07:03.561847Z"
    },
    "papermill": {
     "duration": 0.78669,
     "end_time": "2023-04-04T21:07:03.566342",
     "exception": false,
     "start_time": "2023-04-04T21:07:02.779652",
     "status": "completed"
    },
    "tags": []
   },
   "outputs": [
    {
     "data": {
      "image/png": "[encoded data removed]",
      "text/plain": [
       "<Figure size 2000x500 with 3 Axes>"
      ]
     },
     "metadata": {},
     "output_type": "display_data"
    }
   ],
   "source": [
    "coluna = 'escolaridade'\n",
    "titulos = ['Escolaridade dos Clientes', 'Escolaridade dos Clientes Adimplentes', 'Escolaridade dos Clientes Inadimplentes']\n",
    "\n",
    "eixo = 0\n",
    "max_y = 0\n",
    "max = df[coluna].describe()['freq'] * 1.1 #pega o maior valor da coluna 'escolaridade'\n",
    "\n",
    "#3 subplots na mesma linha\n",
    "figura, eixos = plt.subplots(nrows=1, ncols=3, figsize=(20,5), sharex=True)\n",
    "\n",
    "for dataframe in [df, df_adimplente, df_inadimplente]:\n",
    "    \n",
    "    #Quantidade de cada valor (categoria) na coluna\n",
    "    df_to_plot = dataframe[coluna].value_counts().to_frame()\n",
    "    \n",
    "    #Renomeia colunas\n",
    "    df_to_plot.rename( columns = {coluna: 'frequencia_absoluta'}, inplace=True)\n",
    "    \n",
    "    df_to_plot[coluna] = df_to_plot.index\n",
    "    df_to_plot.sort_values(by=[coluna], inplace=True)\n",
    "    df_to_plot.sort_values(by=[coluna])\n",
    "    \n",
    "    f = sns.barplot(x=df_to_plot[coluna], y=df_to_plot['frequencia_absoluta'], ax=eixos[eixo])\n",
    "    \n",
    "    #Titulos do grafico e dos eixos\n",
    "    f.set(title=titulos[eixo], xlabel=coluna.capitalize(), ylabel='Frequência Absoluta')\n",
    "    \n",
    "    #Rotacionar os labels do eixo X\n",
    "    f.set_xticklabels(labels=f.get_xticklabels(), rotation=90)\n",
    "    \n",
    "    _, max_y_f = f.get_ylim()\n",
    "    max_y = max_y_f if max_y_f > max_y else max_y\n",
    "    \n",
    "    f.set(ylim=(0, max_y))\n",
    "    \n",
    "    eixo += 1\n",
    "    \n",
    "figura.show()"
   ]
  },
  {
   "cell_type": "markdown",
   "id": "52a79f14",
   "metadata": {
    "papermill": {
     "duration": 0.013861,
     "end_time": "2023-04-04T21:07:03.597158",
     "exception": false,
     "start_time": "2023-04-04T21:07:03.583297",
     "status": "completed"
    },
    "tags": []
   },
   "source": [
    "Comparação Salário Anual X Adimplência"
   ]
  },
  {
   "cell_type": "code",
   "execution_count": 22,
   "id": "6b1406a8",
   "metadata": {
    "execution": {
     "iopub.execute_input": "2023-04-04T21:07:03.624739Z",
     "iopub.status.busy": "2023-04-04T21:07:03.624298Z",
     "iopub.status.idle": "2023-04-04T21:07:03.637267Z",
     "shell.execute_reply": "2023-04-04T21:07:03.636234Z"
    },
    "papermill": {
     "duration": 0.029432,
     "end_time": "2023-04-04T21:07:03.639529",
     "exception": false,
     "start_time": "2023-04-04T21:07:03.610097",
     "status": "completed"
    },
    "tags": []
   },
   "outputs": [
    {
     "name": "stdout",
     "output_type": "stream",
     "text": [
      "['$60K - $80K' 'menos que $40K' '$80K - $120K' '$40K - $60K' '$120K +']\n"
     ]
    },
    {
     "data": {
      "text/plain": [
       "menos que $40K    2792\n",
       "$40K - $60K       1412\n",
       "$80K - $120K      1202\n",
       "$60K - $80K       1103\n",
       "$120K +            572\n",
       "Name: salario_anual, dtype: int64"
      ]
     },
     "execution_count": 22,
     "metadata": {},
     "output_type": "execute_result"
    }
   ],
   "source": [
    "print(df_adimplente['salario_anual'].unique())\n",
    "\n",
    "df['salario_anual'].value_counts()"
   ]
  },
  {
   "cell_type": "code",
   "execution_count": 23,
   "id": "444be0ff",
   "metadata": {
    "execution": {
     "iopub.execute_input": "2023-04-04T21:07:03.670952Z",
     "iopub.status.busy": "2023-04-04T21:07:03.669252Z",
     "iopub.status.idle": "2023-04-04T21:07:04.567199Z",
     "shell.execute_reply": "2023-04-04T21:07:04.565761Z"
    },
    "papermill": {
     "duration": 0.916711,
     "end_time": "2023-04-04T21:07:04.570099",
     "exception": false,
     "start_time": "2023-04-04T21:07:03.653388",
     "status": "completed"
    },
    "tags": []
   },
   "outputs": [
    {
     "data": {
      "image/png": "[encoded data removed]",
      "text/plain": [
       "<Figure size 2000x500 with 3 Axes>"
      ]
     },
     "metadata": {},
     "output_type": "display_data"
    }
   ],
   "source": [
    "coluna = 'salario_anual'\n",
    "titulos = ['Salário anual dos Clientes', 'Salário anual dos Clientes Adimplentes', 'Salario anual dos Clientes Inadimplentes']\n",
    "\n",
    "eixo = 0\n",
    "max_y = 0\n",
    "max = df[coluna].describe()['freq'] * 1.1 #pega o maior valor da coluna 'escolaridade'\n",
    "\n",
    "#3 subplots na mesma linha\n",
    "figura, eixos = plt.subplots(nrows=1, ncols=3, figsize=(20,5), sharex=True)\n",
    "\n",
    "for dataframe in [df, df_adimplente, df_inadimplente]:\n",
    "    \n",
    "    #Quantidade de cada valor (categoria) na coluna\n",
    "    df_to_plot = dataframe[coluna].value_counts().to_frame()\n",
    "    \n",
    "    #Renomeia colunas\n",
    "    df_to_plot.rename( columns = {coluna: 'frequencia_absoluta'}, inplace=True)\n",
    "    \n",
    "    df_to_plot[coluna] = df_to_plot.index\n",
    "    df_to_plot.sort_values(by=[coluna], inplace=True)\n",
    "    df_to_plot.sort_values(by=[coluna])\n",
    "    \n",
    "    f = sns.barplot(x=df_to_plot[coluna], y=df_to_plot['frequencia_absoluta'], ax=eixos[eixo])\n",
    "    \n",
    "    #Titulos do grafico e dos eixos\n",
    "    f.set(title=titulos[eixo], xlabel=coluna.capitalize(), ylabel='Frequência Absoluta')\n",
    "    \n",
    "    #Rotacionar os labels do eixo X\n",
    "    f.set_xticklabels(labels=f.get_xticklabels(), rotation=90)\n",
    "    \n",
    "    _, max_y_f = f.get_ylim()\n",
    "    max_y = max_y_f if max_y_f > max_y else max_y\n",
    "    \n",
    "    f.set(ylim=(0, max_y))\n",
    "    \n",
    "    eixo += 1\n",
    "    \n",
    "figura.show()"
   ]
  },
  {
   "cell_type": "markdown",
   "id": "92988816",
   "metadata": {
    "papermill": {
     "duration": 0.013508,
     "end_time": "2023-04-04T21:07:04.597772",
     "exception": false,
     "start_time": "2023-04-04T21:07:04.584264",
     "status": "completed"
    },
    "tags": []
   },
   "source": [
    "Comparação Estado Civil X Adimplencia"
   ]
  },
  {
   "cell_type": "code",
   "execution_count": 24,
   "id": "62c70b3e",
   "metadata": {
    "execution": {
     "iopub.execute_input": "2023-04-04T21:07:04.627629Z",
     "iopub.status.busy": "2023-04-04T21:07:04.627201Z",
     "iopub.status.idle": "2023-04-04T21:07:04.640630Z",
     "shell.execute_reply": "2023-04-04T21:07:04.639267Z"
    },
    "papermill": {
     "duration": 0.031684,
     "end_time": "2023-04-04T21:07:04.643302",
     "exception": false,
     "start_time": "2023-04-04T21:07:04.611618",
     "status": "completed"
    },
    "tags": []
   },
   "outputs": [
    {
     "name": "stdout",
     "output_type": "stream",
     "text": [
      "['casado' 'solteiro' 'divorciado']\n"
     ]
    },
    {
     "data": {
      "text/plain": [
       "casado        3564\n",
       "solteiro      2948\n",
       "divorciado     569\n",
       "Name: estado_civil, dtype: int64"
      ]
     },
     "execution_count": 24,
     "metadata": {},
     "output_type": "execute_result"
    }
   ],
   "source": [
    "print(df['estado_civil'].unique())\n",
    "\n",
    "df['estado_civil'].value_counts()"
   ]
  },
  {
   "cell_type": "code",
   "execution_count": 25,
   "id": "9e17b2c4",
   "metadata": {
    "execution": {
     "iopub.execute_input": "2023-04-04T21:07:04.673662Z",
     "iopub.status.busy": "2023-04-04T21:07:04.673236Z",
     "iopub.status.idle": "2023-04-04T21:07:05.302018Z",
     "shell.execute_reply": "2023-04-04T21:07:05.300712Z"
    },
    "papermill": {
     "duration": 0.647349,
     "end_time": "2023-04-04T21:07:05.304901",
     "exception": false,
     "start_time": "2023-04-04T21:07:04.657552",
     "status": "completed"
    },
    "tags": []
   },
   "outputs": [
    {
     "data": {
      "image/png": "[encoded data removed]",
      "text/plain": [
       "<Figure size 2000x500 with 3 Axes>"
      ]
     },
     "metadata": {},
     "output_type": "display_data"
    }
   ],
   "source": [
    "coluna = 'estado_civil'\n",
    "titulos = ['Estado civil dos Clientes', 'Estado civil dos Clientes Adimplentes', 'Estado civil dos Clientes Inadimplentes']\n",
    "\n",
    "eixo = 0\n",
    "max_y = 0\n",
    "max = df[coluna].describe()['freq'] * 1.1 #pega o maior valor da coluna 'escolaridade'\n",
    "\n",
    "#3 subplots na mesma linha\n",
    "figura, eixos = plt.subplots(nrows=1, ncols=3, figsize=(20,5), sharex=True)\n",
    "\n",
    "for dataframe in [df, df_adimplente, df_inadimplente]:\n",
    "    \n",
    "    #Quantidade de cada valor (categoria) na coluna\n",
    "    df_to_plot = dataframe[coluna].value_counts().to_frame()\n",
    "    \n",
    "    #Renomeia colunas\n",
    "    df_to_plot.rename( columns = {coluna: 'frequencia_absoluta'}, inplace=True)\n",
    "    \n",
    "    df_to_plot[coluna] = df_to_plot.index\n",
    "    df_to_plot.sort_values(by=[coluna], inplace=True)\n",
    "    df_to_plot.sort_values(by=[coluna])\n",
    "    \n",
    "    f = sns.barplot(x=df_to_plot[coluna], y=df_to_plot['frequencia_absoluta'], ax=eixos[eixo])\n",
    "    \n",
    "    #Titulos do grafico e dos eixos\n",
    "    f.set(title=titulos[eixo], xlabel=coluna.capitalize(), ylabel='Frequência Absoluta')\n",
    "    \n",
    "    #Rotacionar os labels do eixo X\n",
    "    f.set_xticklabels(labels=f.get_xticklabels(), rotation=90)\n",
    "    \n",
    "    _, max_y_f = f.get_ylim()\n",
    "    max_y = max_y_f if max_y_f > max_y else max_y\n",
    "    \n",
    "    f.set(ylim=(0, max_y))\n",
    "    \n",
    "    eixo += 1\n",
    "    \n",
    "figura.show()"
   ]
  },
  {
   "cell_type": "markdown",
   "id": "04b60a06",
   "metadata": {
    "papermill": {
     "duration": 0.016786,
     "end_time": "2023-04-04T21:07:05.337094",
     "exception": false,
     "start_time": "2023-04-04T21:07:05.320308",
     "status": "completed"
    },
    "tags": []
   },
   "source": [
    "Comparação Tipo Cartão X Adimplencia"
   ]
  },
  {
   "cell_type": "code",
   "execution_count": 26,
   "id": "a077ba09",
   "metadata": {
    "execution": {
     "iopub.execute_input": "2023-04-04T21:07:05.369183Z",
     "iopub.status.busy": "2023-04-04T21:07:05.368704Z",
     "iopub.status.idle": "2023-04-04T21:07:05.381128Z",
     "shell.execute_reply": "2023-04-04T21:07:05.380113Z"
    },
    "papermill": {
     "duration": 0.031901,
     "end_time": "2023-04-04T21:07:05.383623",
     "exception": false,
     "start_time": "2023-04-04T21:07:05.351722",
     "status": "completed"
    },
    "tags": []
   },
   "outputs": [
    {
     "name": "stdout",
     "output_type": "stream",
     "text": [
      "['blue' 'gold' 'silver' 'platinum']\n"
     ]
    },
    {
     "data": {
      "text/plain": [
       "blue        6598\n",
       "silver       391\n",
       "gold          81\n",
       "platinum      11\n",
       "Name: tipo_cartao, dtype: int64"
      ]
     },
     "execution_count": 26,
     "metadata": {},
     "output_type": "execute_result"
    }
   ],
   "source": [
    "print(df['tipo_cartao'].unique())\n",
    "\n",
    "df['tipo_cartao'].value_counts()"
   ]
  },
  {
   "cell_type": "code",
   "execution_count": 27,
   "id": "efe77a4e",
   "metadata": {
    "execution": {
     "iopub.execute_input": "2023-04-04T21:07:05.416270Z",
     "iopub.status.busy": "2023-04-04T21:07:05.414824Z",
     "iopub.status.idle": "2023-04-04T21:07:06.077903Z",
     "shell.execute_reply": "2023-04-04T21:07:06.076467Z"
    },
    "papermill": {
     "duration": 0.682222,
     "end_time": "2023-04-04T21:07:06.080651",
     "exception": false,
     "start_time": "2023-04-04T21:07:05.398429",
     "status": "completed"
    },
    "tags": []
   },
   "outputs": [
    {
     "data": {
      "image/png": "[encoded data removed]",
      "text/plain": [
       "<Figure size 2000x500 with 3 Axes>"
      ]
     },
     "metadata": {},
     "output_type": "display_data"
    }
   ],
   "source": [
    "coluna = 'tipo_cartao'\n",
    "titulos = ['Tipo cartão dos Clientes', 'Tipo cartão dos Clientes Adimplentes', 'Tipo cartão dos Clientes Inadimplentes']\n",
    "\n",
    "eixo = 0\n",
    "max_y = 0\n",
    "max = df[coluna].describe()['freq'] * 1.1 #pega o maior valor da coluna 'escolaridade'\n",
    "\n",
    "#3 subplots na mesma linha\n",
    "figura, eixos = plt.subplots(nrows=1, ncols=3, figsize=(20,5), sharex=True)\n",
    "\n",
    "for dataframe in [df, df_adimplente, df_inadimplente]:\n",
    "    \n",
    "    #Quantidade de cada valor (categoria) na coluna\n",
    "    df_to_plot = dataframe[coluna].value_counts().to_frame()\n",
    "    \n",
    "    #Renomeia colunas\n",
    "    df_to_plot.rename( columns = {coluna: 'frequencia_absoluta'}, inplace=True)\n",
    "    \n",
    "    df_to_plot[coluna] = df_to_plot.index\n",
    "    df_to_plot.sort_values(by=[coluna], inplace=True)\n",
    "    df_to_plot.sort_values(by=[coluna])\n",
    "    \n",
    "    f = sns.barplot(x=df_to_plot[coluna], y=df_to_plot['frequencia_absoluta'], ax=eixos[eixo])\n",
    "    \n",
    "    #Titulos do grafico e dos eixos\n",
    "    f.set(title=titulos[eixo], xlabel=coluna.capitalize(), ylabel='Frequência Absoluta')\n",
    "    \n",
    "    #Rotacionar os labels do eixo X\n",
    "    f.set_xticklabels(labels=f.get_xticklabels(), rotation=90)\n",
    "    \n",
    "    _, max_y_f = f.get_ylim()\n",
    "    max_y = max_y_f if max_y_f > max_y else max_y\n",
    "    \n",
    "    f.set(ylim=(0, max_y))\n",
    "    \n",
    "    eixo += 1\n",
    "    \n",
    "figura.show()"
   ]
  },
  {
   "cell_type": "markdown",
   "id": "0616edbc",
   "metadata": {
    "id": "RzNSMOmVdB5I",
    "papermill": {
     "duration": 0.016133,
     "end_time": "2023-04-04T21:07:06.112893",
     "exception": false,
     "start_time": "2023-04-04T21:07:06.096760",
     "status": "completed"
    },
    "tags": []
   },
   "source": [
    "## Storytelling"
   ]
  }
 ],
 "metadata": {
  "kernelspec": {
   "display_name": "Python 3",
   "language": "python",
   "name": "python3"
  },
  "language_info": {
   "codemirror_mode": {
    "name": "ipython",
    "version": 3
   },
   "file_extension": ".py",
   "mimetype": "text/x-python",
   "name": "python",
   "nbconvert_exporter": "python",
   "pygments_lexer": "ipython3",
   "version": "3.7.12"
  },
  "papermill": {
   "default_parameters": {},
   "duration": 19.801537,
   "end_time": "2023-04-04T21:07:07.155557",
   "environment_variables": {},
   "exception": null,
   "input_path": "__notebook__.ipynb",
   "output_path": "__notebook__.ipynb",
   "parameters": {},
   "start_time": "2023-04-04T21:06:47.354020",
   "version": "2.4.0"
  }
 },
 "nbformat": 4,
 "nbformat_minor": 5
}
