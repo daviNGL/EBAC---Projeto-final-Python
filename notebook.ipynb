{
 "cells": [
  {
   "cell_type": "markdown",
   "id": "a3b25290",
   "metadata": {
    "id": "KJqp9AANOCtf",
    "papermill": {
     "duration": 0.003106,
     "end_time": "2023-04-04T00:20:41.989515",
     "exception": false,
     "start_time": "2023-04-04T00:20:41.986409",
     "status": "completed"
    },
    "tags": []
   },
   "source": [
    "---\n",
    "\n",
    "# Python: Projeto Final\n",
    "\n",
    "Projeto final do curso de Python que compõe a formação \"Cientista de Dados\" da **EBAC** - Escola Britânica de Artes Criativas e Tecnologia.\n",
    "\n",
    "---"
   ]
  },
  {
   "cell_type": "markdown",
   "id": "84c367d8",
   "metadata": {
    "id": "KzGBmo_sZaQP",
    "papermill": {
     "duration": 0.002085,
     "end_time": "2023-04-04T00:20:41.994153",
     "exception": false,
     "start_time": "2023-04-04T00:20:41.992068",
     "status": "completed"
    },
    "tags": []
   },
   "source": [
    "---\n",
    "\n",
    "## Objetivo\n",
    "\n",
    "Este projeto tem como objetivo realizar uma analise de crédito, para identificar possíveis clientes inadimplentes.\n",
    "\n",
    "Para o projeto, foi fornecido um conjunto de dados de crédito em um arquivo CSV, e serão feitas a exploração, manipulação, limpeza e visualização dos dados. Além de gerar os *insights* das analises realizadas. \n",
    "\n",
    "---\n"
   ]
  },
  {
   "cell_type": "markdown",
   "id": "5829f13f",
   "metadata": {
    "id": "I-HgD7lkbjpw",
    "papermill": {
     "duration": 0.002099,
     "end_time": "2023-04-04T00:20:41.998530",
     "exception": false,
     "start_time": "2023-04-04T00:20:41.996431",
     "status": "completed"
    },
    "tags": []
   },
   "source": [
    "## Importações módulos/bibliotecas"
   ]
  },
  {
   "cell_type": "code",
   "execution_count": 1,
   "id": "ac3aa385",
   "metadata": {
    "execution": {
     "iopub.execute_input": "2023-04-04T00:20:42.005068Z",
     "iopub.status.busy": "2023-04-04T00:20:42.004457Z",
     "iopub.status.idle": "2023-04-04T00:20:42.009115Z",
     "shell.execute_reply": "2023-04-04T00:20:42.007874Z"
    },
    "id": "2y8zAhgFK1rs",
    "papermill": {
     "duration": 0.010097,
     "end_time": "2023-04-04T00:20:42.010875",
     "exception": false,
     "start_time": "2023-04-04T00:20:42.000778",
     "status": "completed"
    },
    "tags": []
   },
   "outputs": [],
   "source": [
    "#Todos os imports"
   ]
  },
  {
   "cell_type": "markdown",
   "id": "383c19cd",
   "metadata": {
    "id": "D5FJG4v2cTXw",
    "papermill": {
     "duration": 0.002299,
     "end_time": "2023-04-04T00:20:42.015885",
     "exception": false,
     "start_time": "2023-04-04T00:20:42.013586",
     "status": "completed"
    },
    "tags": []
   },
   "source": [
    "## Exploração dos dados"
   ]
  },
  {
   "cell_type": "code",
   "execution_count": 2,
   "id": "0af8db6d",
   "metadata": {
    "execution": {
     "iopub.execute_input": "2023-04-04T00:20:42.022376Z",
     "iopub.status.busy": "2023-04-04T00:20:42.021798Z",
     "iopub.status.idle": "2023-04-04T00:20:42.026115Z",
     "shell.execute_reply": "2023-04-04T00:20:42.025030Z"
    },
    "id": "TZnVxaSdcY-g",
    "papermill": {
     "duration": 0.010355,
     "end_time": "2023-04-04T00:20:42.028544",
     "exception": false,
     "start_time": "2023-04-04T00:20:42.018189",
     "status": "completed"
    },
    "tags": []
   },
   "outputs": [],
   "source": [
    "#Exploração"
   ]
  },
  {
   "cell_type": "markdown",
   "id": "ff219d58",
   "metadata": {
    "id": "y9Jx_LUycbFJ",
    "papermill": {
     "duration": 0.002392,
     "end_time": "2023-04-04T00:20:42.033776",
     "exception": false,
     "start_time": "2023-04-04T00:20:42.031384",
     "status": "completed"
    },
    "tags": []
   },
   "source": [
    "## Transformação e limpeza dos dados"
   ]
  },
  {
   "cell_type": "code",
   "execution_count": 3,
   "id": "005ab61b",
   "metadata": {
    "execution": {
     "iopub.execute_input": "2023-04-04T00:20:42.040764Z",
     "iopub.status.busy": "2023-04-04T00:20:42.040405Z",
     "iopub.status.idle": "2023-04-04T00:20:42.045756Z",
     "shell.execute_reply": "2023-04-04T00:20:42.044391Z"
    },
    "id": "m4eexYgOcgeZ",
    "papermill": {
     "duration": 0.011629,
     "end_time": "2023-04-04T00:20:42.048034",
     "exception": false,
     "start_time": "2023-04-04T00:20:42.036405",
     "status": "completed"
    },
    "tags": []
   },
   "outputs": [],
   "source": [
    "#Transformação e limpeza"
   ]
  },
  {
   "cell_type": "markdown",
   "id": "c799af00",
   "metadata": {
    "id": "hSQ8p2gXclY3",
    "papermill": {
     "duration": 0.002427,
     "end_time": "2023-04-04T00:20:42.053434",
     "exception": false,
     "start_time": "2023-04-04T00:20:42.051007",
     "status": "completed"
    },
    "tags": []
   },
   "source": [
    "## Visualização dos dados"
   ]
  },
  {
   "cell_type": "code",
   "execution_count": 4,
   "id": "09ce2c39",
   "metadata": {
    "execution": {
     "iopub.execute_input": "2023-04-04T00:20:42.060739Z",
     "iopub.status.busy": "2023-04-04T00:20:42.060329Z",
     "iopub.status.idle": "2023-04-04T00:20:42.066413Z",
     "shell.execute_reply": "2023-04-04T00:20:42.064706Z"
    },
    "id": "veUP8_RKc_8Z",
    "papermill": {
     "duration": 0.012994,
     "end_time": "2023-04-04T00:20:42.069196",
     "exception": false,
     "start_time": "2023-04-04T00:20:42.056202",
     "status": "completed"
    },
    "tags": []
   },
   "outputs": [],
   "source": [
    "#Visualização"
   ]
  },
  {
   "cell_type": "markdown",
   "id": "28343ae5",
   "metadata": {
    "id": "RzNSMOmVdB5I",
    "papermill": {
     "duration": 0.002436,
     "end_time": "2023-04-04T00:20:42.074505",
     "exception": false,
     "start_time": "2023-04-04T00:20:42.072069",
     "status": "completed"
    },
    "tags": []
   },
   "source": [
    "## Storytelling"
   ]
  }
 ],
 "metadata": {
  "kernelspec": {
   "display_name": "Python 3",
   "language": "python",
   "name": "python3"
  },
  "language_info": {
   "codemirror_mode": {
    "name": "ipython",
    "version": 3
   },
   "file_extension": ".py",
   "mimetype": "text/x-python",
   "name": "python",
   "nbconvert_exporter": "python",
   "pygments_lexer": "ipython3",
   "version": "3.7.12"
  },
  "papermill": {
   "default_parameters": {},
   "duration": 10.042793,
   "end_time": "2023-04-04T00:20:42.800760",
   "environment_variables": {},
   "exception": null,
   "input_path": "__notebook__.ipynb",
   "output_path": "__notebook__.ipynb",
   "parameters": {},
   "start_time": "2023-04-04T00:20:32.757967",
   "version": "2.4.0"
  }
 },
 "nbformat": 4,
 "nbformat_minor": 5
}
