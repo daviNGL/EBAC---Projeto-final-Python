{
 "cells": [
  {
   "cell_type": "markdown",
   "id": "8859a7b8",
   "metadata": {
    "id": "KJqp9AANOCtf",
    "papermill": {
     "duration": 0.00414,
     "end_time": "2023-04-04T00:16:35.257134",
     "exception": false,
     "start_time": "2023-04-04T00:16:35.252994",
     "status": "completed"
    },
    "tags": []
   },
   "source": [
    "---\n",
    "\n",
    "# Python: Projeto Final\n",
    "\n",
    "Projeto final do curso de Python que compõe a formação \"Cientista de Dados\" da **EBAC** - Escola Britânica de Artes Criativas e Tecnologia.\n",
    "\n",
    "---"
   ]
  },
  {
   "cell_type": "markdown",
   "id": "fa699cab",
   "metadata": {
    "id": "KzGBmo_sZaQP",
    "papermill": {
     "duration": 0.002687,
     "end_time": "2023-04-04T00:16:35.263054",
     "exception": false,
     "start_time": "2023-04-04T00:16:35.260367",
     "status": "completed"
    },
    "tags": []
   },
   "source": [
    "---\n",
    "\n",
    "## Objetivo\n",
    "\n",
    "Este projeto tem como objetivo realizar uma analise de crédito, para identificar possíveis clientes inadimplentes.\n",
    "\n",
    "Para o projeto, foi fornecido um conjunto de dados de crédito em um arquivo CSV, e serão feitas a exploração, manipulação, limpeza e visualização dos dados. Além de gerar os *insights* das analises realizadas. \n",
    "\n",
    "---\n"
   ]
  },
  {
   "cell_type": "markdown",
   "id": "77777a1d",
   "metadata": {
    "id": "I-HgD7lkbjpw",
    "papermill": {
     "duration": 0.002643,
     "end_time": "2023-04-04T00:16:35.268657",
     "exception": false,
     "start_time": "2023-04-04T00:16:35.266014",
     "status": "completed"
    },
    "tags": []
   },
   "source": [
    "## Importações módulos/bibliotecas"
   ]
  },
  {
   "cell_type": "code",
   "execution_count": 1,
   "id": "70ab4b17",
   "metadata": {
    "execution": {
     "iopub.execute_input": "2023-04-04T00:16:35.277306Z",
     "iopub.status.busy": "2023-04-04T00:16:35.276710Z",
     "iopub.status.idle": "2023-04-04T00:16:35.283640Z",
     "shell.execute_reply": "2023-04-04T00:16:35.282300Z"
    },
    "id": "2y8zAhgFK1rs",
    "papermill": {
     "duration": 0.016947,
     "end_time": "2023-04-04T00:16:35.288490",
     "exception": false,
     "start_time": "2023-04-04T00:16:35.271543",
     "status": "completed"
    },
    "tags": []
   },
   "outputs": [],
   "source": [
    "#Todos os imports"
   ]
  },
  {
   "cell_type": "markdown",
   "id": "1da35205",
   "metadata": {
    "id": "D5FJG4v2cTXw",
    "papermill": {
     "duration": 0.002739,
     "end_time": "2023-04-04T00:16:35.294545",
     "exception": false,
     "start_time": "2023-04-04T00:16:35.291806",
     "status": "completed"
    },
    "tags": []
   },
   "source": [
    "## Exploração dos dados"
   ]
  },
  {
   "cell_type": "code",
   "execution_count": 2,
   "id": "90ae48b7",
   "metadata": {
    "execution": {
     "iopub.execute_input": "2023-04-04T00:16:35.302794Z",
     "iopub.status.busy": "2023-04-04T00:16:35.301882Z",
     "iopub.status.idle": "2023-04-04T00:16:35.307221Z",
     "shell.execute_reply": "2023-04-04T00:16:35.306322Z"
    },
    "id": "TZnVxaSdcY-g",
    "papermill": {
     "duration": 0.012193,
     "end_time": "2023-04-04T00:16:35.309725",
     "exception": false,
     "start_time": "2023-04-04T00:16:35.297532",
     "status": "completed"
    },
    "tags": []
   },
   "outputs": [],
   "source": [
    "#Exploração"
   ]
  },
  {
   "cell_type": "markdown",
   "id": "9eec3369",
   "metadata": {
    "id": "y9Jx_LUycbFJ",
    "papermill": {
     "duration": 0.00286,
     "end_time": "2023-04-04T00:16:35.315778",
     "exception": false,
     "start_time": "2023-04-04T00:16:35.312918",
     "status": "completed"
    },
    "tags": []
   },
   "source": [
    "## Transformação e limpeza dos dados"
   ]
  },
  {
   "cell_type": "code",
   "execution_count": 3,
   "id": "a37b6ff2",
   "metadata": {
    "execution": {
     "iopub.execute_input": "2023-04-04T00:16:35.324419Z",
     "iopub.status.busy": "2023-04-04T00:16:35.323645Z",
     "iopub.status.idle": "2023-04-04T00:16:35.328811Z",
     "shell.execute_reply": "2023-04-04T00:16:35.327733Z"
    },
    "id": "m4eexYgOcgeZ",
    "papermill": {
     "duration": 0.012519,
     "end_time": "2023-04-04T00:16:35.331369",
     "exception": false,
     "start_time": "2023-04-04T00:16:35.318850",
     "status": "completed"
    },
    "tags": []
   },
   "outputs": [],
   "source": [
    "#Transformação e limpeza"
   ]
  },
  {
   "cell_type": "markdown",
   "id": "1c80ed8c",
   "metadata": {
    "id": "hSQ8p2gXclY3",
    "papermill": {
     "duration": 0.002913,
     "end_time": "2023-04-04T00:16:35.337577",
     "exception": false,
     "start_time": "2023-04-04T00:16:35.334664",
     "status": "completed"
    },
    "tags": []
   },
   "source": [
    "## Visualização dos dados"
   ]
  },
  {
   "cell_type": "code",
   "execution_count": 4,
   "id": "d68edf4d",
   "metadata": {
    "execution": {
     "iopub.execute_input": "2023-04-04T00:16:35.346253Z",
     "iopub.status.busy": "2023-04-04T00:16:35.345524Z",
     "iopub.status.idle": "2023-04-04T00:16:35.350622Z",
     "shell.execute_reply": "2023-04-04T00:16:35.349703Z"
    },
    "id": "veUP8_RKc_8Z",
    "papermill": {
     "duration": 0.012353,
     "end_time": "2023-04-04T00:16:35.353115",
     "exception": false,
     "start_time": "2023-04-04T00:16:35.340762",
     "status": "completed"
    },
    "tags": []
   },
   "outputs": [],
   "source": [
    "#Visualização"
   ]
  },
  {
   "cell_type": "markdown",
   "id": "a5dad7fb",
   "metadata": {
    "id": "RzNSMOmVdB5I",
    "papermill": {
     "duration": 0.002855,
     "end_time": "2023-04-04T00:16:35.359147",
     "exception": false,
     "start_time": "2023-04-04T00:16:35.356292",
     "status": "completed"
    },
    "tags": []
   },
   "source": [
    "## Storytelling"
   ]
  }
 ],
 "metadata": {
  "kernelspec": {
   "display_name": "Python 3",
   "language": "python",
   "name": "python3"
  },
  "language_info": {
   "codemirror_mode": {
    "name": "ipython",
    "version": 3
   },
   "file_extension": ".py",
   "mimetype": "text/x-python",
   "name": "python",
   "nbconvert_exporter": "python",
   "pygments_lexer": "ipython3",
   "version": "3.7.12"
  },
  "papermill": {
   "default_parameters": {},
   "duration": 12.066148,
   "end_time": "2023-04-04T00:16:36.084934",
   "environment_variables": {},
   "exception": null,
   "input_path": "__notebook__.ipynb",
   "output_path": "__notebook__.ipynb",
   "parameters": {},
   "start_time": "2023-04-04T00:16:24.018786",
   "version": "2.4.0"
  }
 },
 "nbformat": 4,
 "nbformat_minor": 5
}
