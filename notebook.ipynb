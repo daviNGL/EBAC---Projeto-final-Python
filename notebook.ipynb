{
 "cells": [
  {
   "cell_type": "markdown",
   "id": "c586a057",
   "metadata": {
    "id": "KJqp9AANOCtf",
    "papermill": {
     "duration": 0.008715,
     "end_time": "2023-04-04T20:00:43.221667",
     "exception": false,
     "start_time": "2023-04-04T20:00:43.212952",
     "status": "completed"
    },
    "tags": []
   },
   "source": [
    "---\n",
    "\n",
    "# Python: Projeto Final\n",
    "\n",
    "Projeto final do curso de Python que compõe a formação \"Cientista de Dados\" da **EBAC** - Escola Britânica de Artes Criativas e Tecnologia.\n",
    "\n",
    "---"
   ]
  },
  {
   "cell_type": "markdown",
   "id": "cc92f320",
   "metadata": {
    "id": "KzGBmo_sZaQP",
    "papermill": {
     "duration": 0.007338,
     "end_time": "2023-04-04T20:00:43.236933",
     "exception": false,
     "start_time": "2023-04-04T20:00:43.229595",
     "status": "completed"
    },
    "tags": []
   },
   "source": [
    "---\n",
    "\n",
    "## Objetivo\n",
    "\n",
    "Este projeto tem como objetivo realizar uma analise de crédito, para identificar possíveis clientes inadimplentes.\n",
    "\n",
    "Para o projeto, foi fornecido um conjunto de dados de crédito em um arquivo CSV, e serão feitas a exploração, manipulação, limpeza e visualização dos dados. Além de gerar os *insights* das analises realizadas. \n",
    "\n",
    "A coluna que indica adimplencia ou inadimplencia é a *default*, valores 0 e 1, respectivamente.\n",
    "\n",
    "---\n"
   ]
  },
  {
   "cell_type": "markdown",
   "id": "7016b780",
   "metadata": {
    "id": "I-HgD7lkbjpw",
    "papermill": {
     "duration": 0.006918,
     "end_time": "2023-04-04T20:00:43.251359",
     "exception": false,
     "start_time": "2023-04-04T20:00:43.244441",
     "status": "completed"
    },
    "tags": []
   },
   "source": [
    "## Importações"
   ]
  },
  {
   "cell_type": "code",
   "execution_count": 1,
   "id": "dcb852b4",
   "metadata": {
    "execution": {
     "iopub.execute_input": "2023-04-04T20:00:43.268633Z",
     "iopub.status.busy": "2023-04-04T20:00:43.268146Z",
     "iopub.status.idle": "2023-04-04T20:00:43.279111Z",
     "shell.execute_reply": "2023-04-04T20:00:43.277602Z"
    },
    "id": "2y8zAhgFK1rs",
    "papermill": {
     "duration": 0.023548,
     "end_time": "2023-04-04T20:00:43.282063",
     "exception": false,
     "start_time": "2023-04-04T20:00:43.258515",
     "status": "completed"
    },
    "tags": []
   },
   "outputs": [],
   "source": [
    "import pandas as pd"
   ]
  },
  {
   "cell_type": "markdown",
   "id": "e2377e12",
   "metadata": {
    "id": "D5FJG4v2cTXw",
    "papermill": {
     "duration": 0.006908,
     "end_time": "2023-04-04T20:00:43.296215",
     "exception": false,
     "start_time": "2023-04-04T20:00:43.289307",
     "status": "completed"
    },
    "tags": []
   },
   "source": [
    "## Exploração dos dados"
   ]
  },
  {
   "cell_type": "code",
   "execution_count": 2,
   "id": "c1108d4b",
   "metadata": {
    "execution": {
     "iopub.execute_input": "2023-04-04T20:00:43.313251Z",
     "iopub.status.busy": "2023-04-04T20:00:43.312794Z",
     "iopub.status.idle": "2023-04-04T20:00:43.370355Z",
     "shell.execute_reply": "2023-04-04T20:00:43.368912Z"
    },
    "id": "TZnVxaSdcY-g",
    "papermill": {
     "duration": 0.069986,
     "end_time": "2023-04-04T20:00:43.373566",
     "exception": false,
     "start_time": "2023-04-04T20:00:43.303580",
     "status": "completed"
    },
    "tags": []
   },
   "outputs": [],
   "source": [
    "#Abertura e leitura do CSV\n",
    "df = pd.read_csv('/kaggle/input/ebac-basedados/Python_M10_support material.csv', na_values='na')"
   ]
  },
  {
   "cell_type": "code",
   "execution_count": 3,
   "id": "788aaaa8",
   "metadata": {
    "execution": {
     "iopub.execute_input": "2023-04-04T20:00:43.390132Z",
     "iopub.status.busy": "2023-04-04T20:00:43.389426Z",
     "iopub.status.idle": "2023-04-04T20:00:43.425210Z",
     "shell.execute_reply": "2023-04-04T20:00:43.423929Z"
    },
    "papermill": {
     "duration": 0.047546,
     "end_time": "2023-04-04T20:00:43.428348",
     "exception": false,
     "start_time": "2023-04-04T20:00:43.380802",
     "status": "completed"
    },
    "tags": []
   },
   "outputs": [
    {
     "data": {
      "text/html": [
       "<div>\n",
       "<style scoped>\n",
       "    .dataframe tbody tr th:only-of-type {\n",
       "        vertical-align: middle;\n",
       "    }\n",
       "\n",
       "    .dataframe tbody tr th {\n",
       "        vertical-align: top;\n",
       "    }\n",
       "\n",
       "    .dataframe thead th {\n",
       "        text-align: right;\n",
       "    }\n",
       "</style>\n",
       "<table border=\"1\" class=\"dataframe\">\n",
       "  <thead>\n",
       "    <tr style=\"text-align: right;\">\n",
       "      <th></th>\n",
       "      <th>id</th>\n",
       "      <th>default</th>\n",
       "      <th>idade</th>\n",
       "      <th>sexo</th>\n",
       "      <th>dependentes</th>\n",
       "      <th>escolaridade</th>\n",
       "      <th>estado_civil</th>\n",
       "      <th>salario_anual</th>\n",
       "      <th>tipo_cartao</th>\n",
       "      <th>meses_de_relacionamento</th>\n",
       "      <th>qtd_produtos</th>\n",
       "      <th>iteracoes_12m</th>\n",
       "      <th>meses_inativo_12m</th>\n",
       "      <th>limite_credito</th>\n",
       "      <th>valor_transacoes_12m</th>\n",
       "      <th>qtd_transacoes_12m</th>\n",
       "    </tr>\n",
       "  </thead>\n",
       "  <tbody>\n",
       "    <tr>\n",
       "      <th>0</th>\n",
       "      <td>768805383</td>\n",
       "      <td>0</td>\n",
       "      <td>45</td>\n",
       "      <td>M</td>\n",
       "      <td>3</td>\n",
       "      <td>ensino medio</td>\n",
       "      <td>casado</td>\n",
       "      <td>$60K - $80K</td>\n",
       "      <td>blue</td>\n",
       "      <td>39</td>\n",
       "      <td>5</td>\n",
       "      <td>3</td>\n",
       "      <td>1</td>\n",
       "      <td>12.691,51</td>\n",
       "      <td>1.144,90</td>\n",
       "      <td>42</td>\n",
       "    </tr>\n",
       "    <tr>\n",
       "      <th>1</th>\n",
       "      <td>818770008</td>\n",
       "      <td>0</td>\n",
       "      <td>49</td>\n",
       "      <td>F</td>\n",
       "      <td>5</td>\n",
       "      <td>mestrado</td>\n",
       "      <td>solteiro</td>\n",
       "      <td>menos que $40K</td>\n",
       "      <td>blue</td>\n",
       "      <td>44</td>\n",
       "      <td>6</td>\n",
       "      <td>2</td>\n",
       "      <td>1</td>\n",
       "      <td>8.256,96</td>\n",
       "      <td>1.291,45</td>\n",
       "      <td>33</td>\n",
       "    </tr>\n",
       "    <tr>\n",
       "      <th>2</th>\n",
       "      <td>713982108</td>\n",
       "      <td>0</td>\n",
       "      <td>51</td>\n",
       "      <td>M</td>\n",
       "      <td>3</td>\n",
       "      <td>mestrado</td>\n",
       "      <td>casado</td>\n",
       "      <td>$80K - $120K</td>\n",
       "      <td>blue</td>\n",
       "      <td>36</td>\n",
       "      <td>4</td>\n",
       "      <td>0</td>\n",
       "      <td>1</td>\n",
       "      <td>3.418,56</td>\n",
       "      <td>1.887,72</td>\n",
       "      <td>20</td>\n",
       "    </tr>\n",
       "    <tr>\n",
       "      <th>3</th>\n",
       "      <td>769911858</td>\n",
       "      <td>0</td>\n",
       "      <td>40</td>\n",
       "      <td>F</td>\n",
       "      <td>4</td>\n",
       "      <td>ensino medio</td>\n",
       "      <td>NaN</td>\n",
       "      <td>menos que $40K</td>\n",
       "      <td>blue</td>\n",
       "      <td>34</td>\n",
       "      <td>3</td>\n",
       "      <td>1</td>\n",
       "      <td>4</td>\n",
       "      <td>3.313,03</td>\n",
       "      <td>1.171,56</td>\n",
       "      <td>20</td>\n",
       "    </tr>\n",
       "    <tr>\n",
       "      <th>4</th>\n",
       "      <td>709106358</td>\n",
       "      <td>0</td>\n",
       "      <td>40</td>\n",
       "      <td>M</td>\n",
       "      <td>3</td>\n",
       "      <td>sem educacao formal</td>\n",
       "      <td>casado</td>\n",
       "      <td>$60K - $80K</td>\n",
       "      <td>blue</td>\n",
       "      <td>21</td>\n",
       "      <td>5</td>\n",
       "      <td>0</td>\n",
       "      <td>1</td>\n",
       "      <td>4.716,22</td>\n",
       "      <td>816,08</td>\n",
       "      <td>28</td>\n",
       "    </tr>\n",
       "  </tbody>\n",
       "</table>\n",
       "</div>"
      ],
      "text/plain": [
       "          id  default  idade sexo  dependentes         escolaridade  \\\n",
       "0  768805383        0     45    M            3         ensino medio   \n",
       "1  818770008        0     49    F            5             mestrado   \n",
       "2  713982108        0     51    M            3             mestrado   \n",
       "3  769911858        0     40    F            4         ensino medio   \n",
       "4  709106358        0     40    M            3  sem educacao formal   \n",
       "\n",
       "  estado_civil   salario_anual tipo_cartao  meses_de_relacionamento  \\\n",
       "0       casado     $60K - $80K        blue                       39   \n",
       "1     solteiro  menos que $40K        blue                       44   \n",
       "2       casado    $80K - $120K        blue                       36   \n",
       "3          NaN  menos que $40K        blue                       34   \n",
       "4       casado     $60K - $80K        blue                       21   \n",
       "\n",
       "   qtd_produtos  iteracoes_12m  meses_inativo_12m limite_credito  \\\n",
       "0             5              3                  1      12.691,51   \n",
       "1             6              2                  1       8.256,96   \n",
       "2             4              0                  1       3.418,56   \n",
       "3             3              1                  4       3.313,03   \n",
       "4             5              0                  1       4.716,22   \n",
       "\n",
       "  valor_transacoes_12m  qtd_transacoes_12m  \n",
       "0             1.144,90                  42  \n",
       "1             1.291,45                  33  \n",
       "2             1.887,72                  20  \n",
       "3             1.171,56                  20  \n",
       "4               816,08                  28  "
      ]
     },
     "execution_count": 3,
     "metadata": {},
     "output_type": "execute_result"
    }
   ],
   "source": [
    "df.head(n=5)"
   ]
  },
  {
   "cell_type": "code",
   "execution_count": 4,
   "id": "01407edb",
   "metadata": {
    "execution": {
     "iopub.execute_input": "2023-04-04T20:00:43.448705Z",
     "iopub.status.busy": "2023-04-04T20:00:43.448259Z",
     "iopub.status.idle": "2023-04-04T20:00:43.467676Z",
     "shell.execute_reply": "2023-04-04T20:00:43.465880Z"
    },
    "papermill": {
     "duration": 0.033057,
     "end_time": "2023-04-04T20:00:43.470345",
     "exception": false,
     "start_time": "2023-04-04T20:00:43.437288",
     "status": "completed"
    },
    "tags": []
   },
   "outputs": [
    {
     "data": {
      "text/html": [
       "<div>\n",
       "<style scoped>\n",
       "    .dataframe tbody tr th:only-of-type {\n",
       "        vertical-align: middle;\n",
       "    }\n",
       "\n",
       "    .dataframe tbody tr th {\n",
       "        vertical-align: top;\n",
       "    }\n",
       "\n",
       "    .dataframe thead th {\n",
       "        text-align: right;\n",
       "    }\n",
       "</style>\n",
       "<table border=\"1\" class=\"dataframe\">\n",
       "  <thead>\n",
       "    <tr style=\"text-align: right;\">\n",
       "      <th></th>\n",
       "      <th>id</th>\n",
       "      <th>default</th>\n",
       "      <th>idade</th>\n",
       "      <th>sexo</th>\n",
       "      <th>dependentes</th>\n",
       "      <th>escolaridade</th>\n",
       "      <th>estado_civil</th>\n",
       "      <th>salario_anual</th>\n",
       "      <th>tipo_cartao</th>\n",
       "      <th>meses_de_relacionamento</th>\n",
       "      <th>qtd_produtos</th>\n",
       "      <th>iteracoes_12m</th>\n",
       "      <th>meses_inativo_12m</th>\n",
       "      <th>limite_credito</th>\n",
       "      <th>valor_transacoes_12m</th>\n",
       "      <th>qtd_transacoes_12m</th>\n",
       "    </tr>\n",
       "  </thead>\n",
       "  <tbody>\n",
       "    <tr>\n",
       "      <th>10122</th>\n",
       "      <td>772366833</td>\n",
       "      <td>0</td>\n",
       "      <td>50</td>\n",
       "      <td>M</td>\n",
       "      <td>2</td>\n",
       "      <td>mestrado</td>\n",
       "      <td>solteiro</td>\n",
       "      <td>$40K - $60K</td>\n",
       "      <td>blue</td>\n",
       "      <td>40</td>\n",
       "      <td>3</td>\n",
       "      <td>3</td>\n",
       "      <td>2</td>\n",
       "      <td>4.003,91</td>\n",
       "      <td>15.476,26</td>\n",
       "      <td>117</td>\n",
       "    </tr>\n",
       "    <tr>\n",
       "      <th>10123</th>\n",
       "      <td>710638233</td>\n",
       "      <td>1</td>\n",
       "      <td>41</td>\n",
       "      <td>M</td>\n",
       "      <td>2</td>\n",
       "      <td>NaN</td>\n",
       "      <td>divorciado</td>\n",
       "      <td>$40K - $60K</td>\n",
       "      <td>blue</td>\n",
       "      <td>25</td>\n",
       "      <td>4</td>\n",
       "      <td>3</td>\n",
       "      <td>2</td>\n",
       "      <td>4.277,04</td>\n",
       "      <td>8.764,88</td>\n",
       "      <td>69</td>\n",
       "    </tr>\n",
       "    <tr>\n",
       "      <th>10124</th>\n",
       "      <td>716506083</td>\n",
       "      <td>1</td>\n",
       "      <td>44</td>\n",
       "      <td>F</td>\n",
       "      <td>1</td>\n",
       "      <td>ensino medio</td>\n",
       "      <td>casado</td>\n",
       "      <td>menos que $40K</td>\n",
       "      <td>blue</td>\n",
       "      <td>36</td>\n",
       "      <td>5</td>\n",
       "      <td>4</td>\n",
       "      <td>3</td>\n",
       "      <td>5.409,16</td>\n",
       "      <td>10.291,78</td>\n",
       "      <td>60</td>\n",
       "    </tr>\n",
       "    <tr>\n",
       "      <th>10125</th>\n",
       "      <td>717406983</td>\n",
       "      <td>1</td>\n",
       "      <td>30</td>\n",
       "      <td>M</td>\n",
       "      <td>2</td>\n",
       "      <td>mestrado</td>\n",
       "      <td>NaN</td>\n",
       "      <td>$40K - $60K</td>\n",
       "      <td>blue</td>\n",
       "      <td>36</td>\n",
       "      <td>4</td>\n",
       "      <td>3</td>\n",
       "      <td>3</td>\n",
       "      <td>5.281,84</td>\n",
       "      <td>8.395,62</td>\n",
       "      <td>62</td>\n",
       "    </tr>\n",
       "    <tr>\n",
       "      <th>10126</th>\n",
       "      <td>714337233</td>\n",
       "      <td>1</td>\n",
       "      <td>43</td>\n",
       "      <td>F</td>\n",
       "      <td>2</td>\n",
       "      <td>mestrado</td>\n",
       "      <td>casado</td>\n",
       "      <td>menos que $40K</td>\n",
       "      <td>silver</td>\n",
       "      <td>25</td>\n",
       "      <td>6</td>\n",
       "      <td>4</td>\n",
       "      <td>2</td>\n",
       "      <td>10.388,80</td>\n",
       "      <td>10.294,96</td>\n",
       "      <td>61</td>\n",
       "    </tr>\n",
       "  </tbody>\n",
       "</table>\n",
       "</div>"
      ],
      "text/plain": [
       "              id  default  idade sexo  dependentes  escolaridade estado_civil  \\\n",
       "10122  772366833        0     50    M            2      mestrado     solteiro   \n",
       "10123  710638233        1     41    M            2           NaN   divorciado   \n",
       "10124  716506083        1     44    F            1  ensino medio       casado   \n",
       "10125  717406983        1     30    M            2      mestrado          NaN   \n",
       "10126  714337233        1     43    F            2      mestrado       casado   \n",
       "\n",
       "        salario_anual tipo_cartao  meses_de_relacionamento  qtd_produtos  \\\n",
       "10122     $40K - $60K        blue                       40             3   \n",
       "10123     $40K - $60K        blue                       25             4   \n",
       "10124  menos que $40K        blue                       36             5   \n",
       "10125     $40K - $60K        blue                       36             4   \n",
       "10126  menos que $40K      silver                       25             6   \n",
       "\n",
       "       iteracoes_12m  meses_inativo_12m limite_credito valor_transacoes_12m  \\\n",
       "10122              3                  2       4.003,91            15.476,26   \n",
       "10123              3                  2       4.277,04             8.764,88   \n",
       "10124              4                  3       5.409,16            10.291,78   \n",
       "10125              3                  3       5.281,84             8.395,62   \n",
       "10126              4                  2      10.388,80            10.294,96   \n",
       "\n",
       "       qtd_transacoes_12m  \n",
       "10122                 117  \n",
       "10123                  69  \n",
       "10124                  60  \n",
       "10125                  62  \n",
       "10126                  61  "
      ]
     },
     "execution_count": 4,
     "metadata": {},
     "output_type": "execute_result"
    }
   ],
   "source": [
    "df.tail(n=5)"
   ]
  },
  {
   "cell_type": "code",
   "execution_count": 5,
   "id": "a9c0a57d",
   "metadata": {
    "execution": {
     "iopub.execute_input": "2023-04-04T20:00:43.487731Z",
     "iopub.status.busy": "2023-04-04T20:00:43.487335Z",
     "iopub.status.idle": "2023-04-04T20:00:43.493724Z",
     "shell.execute_reply": "2023-04-04T20:00:43.492396Z"
    },
    "papermill": {
     "duration": 0.018593,
     "end_time": "2023-04-04T20:00:43.496768",
     "exception": false,
     "start_time": "2023-04-04T20:00:43.478175",
     "status": "completed"
    },
    "tags": []
   },
   "outputs": [
    {
     "name": "stdout",
     "output_type": "stream",
     "text": [
      "linhas=10127 colunas=16\n"
     ]
    }
   ],
   "source": [
    "tot_linhas, tot_colunas = df.shape\n",
    "print(f'linhas={tot_linhas} colunas={tot_colunas}')"
   ]
  },
  {
   "cell_type": "code",
   "execution_count": 6,
   "id": "c7481aac",
   "metadata": {
    "execution": {
     "iopub.execute_input": "2023-04-04T20:00:43.514745Z",
     "iopub.status.busy": "2023-04-04T20:00:43.514325Z",
     "iopub.status.idle": "2023-04-04T20:00:43.524285Z",
     "shell.execute_reply": "2023-04-04T20:00:43.522941Z"
    },
    "papermill": {
     "duration": 0.022831,
     "end_time": "2023-04-04T20:00:43.527809",
     "exception": false,
     "start_time": "2023-04-04T20:00:43.504978",
     "status": "completed"
    },
    "tags": []
   },
   "outputs": [
    {
     "data": {
      "text/plain": [
       "id                          int64\n",
       "default                     int64\n",
       "idade                       int64\n",
       "sexo                       object\n",
       "dependentes                 int64\n",
       "escolaridade               object\n",
       "estado_civil               object\n",
       "salario_anual              object\n",
       "tipo_cartao                object\n",
       "meses_de_relacionamento     int64\n",
       "qtd_produtos                int64\n",
       "iteracoes_12m               int64\n",
       "meses_inativo_12m           int64\n",
       "limite_credito             object\n",
       "valor_transacoes_12m       object\n",
       "qtd_transacoes_12m          int64\n",
       "dtype: object"
      ]
     },
     "execution_count": 6,
     "metadata": {},
     "output_type": "execute_result"
    }
   ],
   "source": [
    "df.dtypes"
   ]
  },
  {
   "cell_type": "markdown",
   "id": "80d0ab40",
   "metadata": {
    "papermill": {
     "duration": 0.008266,
     "end_time": "2023-04-04T20:00:43.544324",
     "exception": false,
     "start_time": "2023-04-04T20:00:43.536058",
     "status": "completed"
    },
    "tags": []
   },
   "source": [
    "### Colunas categóricas"
   ]
  },
  {
   "cell_type": "code",
   "execution_count": 7,
   "id": "2cf6566b",
   "metadata": {
    "execution": {
     "iopub.execute_input": "2023-04-04T20:00:43.562715Z",
     "iopub.status.busy": "2023-04-04T20:00:43.561696Z",
     "iopub.status.idle": "2023-04-04T20:00:43.615119Z",
     "shell.execute_reply": "2023-04-04T20:00:43.613726Z"
    },
    "papermill": {
     "duration": 0.065691,
     "end_time": "2023-04-04T20:00:43.617965",
     "exception": false,
     "start_time": "2023-04-04T20:00:43.552274",
     "status": "completed"
    },
    "tags": []
   },
   "outputs": [
    {
     "data": {
      "text/html": [
       "<div>\n",
       "<style scoped>\n",
       "    .dataframe tbody tr th:only-of-type {\n",
       "        vertical-align: middle;\n",
       "    }\n",
       "\n",
       "    .dataframe tbody tr th {\n",
       "        vertical-align: top;\n",
       "    }\n",
       "\n",
       "    .dataframe thead th {\n",
       "        text-align: right;\n",
       "    }\n",
       "</style>\n",
       "<table border=\"1\" class=\"dataframe\">\n",
       "  <thead>\n",
       "    <tr style=\"text-align: right;\">\n",
       "      <th></th>\n",
       "      <th>sexo</th>\n",
       "      <th>escolaridade</th>\n",
       "      <th>estado_civil</th>\n",
       "      <th>salario_anual</th>\n",
       "      <th>tipo_cartao</th>\n",
       "      <th>limite_credito</th>\n",
       "      <th>valor_transacoes_12m</th>\n",
       "    </tr>\n",
       "  </thead>\n",
       "  <tbody>\n",
       "    <tr>\n",
       "      <th>count</th>\n",
       "      <td>10127</td>\n",
       "      <td>8608</td>\n",
       "      <td>9378</td>\n",
       "      <td>9015</td>\n",
       "      <td>10127</td>\n",
       "      <td>10127</td>\n",
       "      <td>10127</td>\n",
       "    </tr>\n",
       "    <tr>\n",
       "      <th>unique</th>\n",
       "      <td>2</td>\n",
       "      <td>5</td>\n",
       "      <td>3</td>\n",
       "      <td>5</td>\n",
       "      <td>4</td>\n",
       "      <td>9272</td>\n",
       "      <td>10035</td>\n",
       "    </tr>\n",
       "    <tr>\n",
       "      <th>top</th>\n",
       "      <td>F</td>\n",
       "      <td>mestrado</td>\n",
       "      <td>casado</td>\n",
       "      <td>menos que $40K</td>\n",
       "      <td>blue</td>\n",
       "      <td>1.438,21</td>\n",
       "      <td>3.851,51</td>\n",
       "    </tr>\n",
       "    <tr>\n",
       "      <th>freq</th>\n",
       "      <td>5358</td>\n",
       "      <td>3128</td>\n",
       "      <td>4687</td>\n",
       "      <td>3561</td>\n",
       "      <td>9436</td>\n",
       "      <td>11</td>\n",
       "      <td>3</td>\n",
       "    </tr>\n",
       "  </tbody>\n",
       "</table>\n",
       "</div>"
      ],
      "text/plain": [
       "         sexo escolaridade estado_civil   salario_anual tipo_cartao  \\\n",
       "count   10127         8608         9378            9015       10127   \n",
       "unique      2            5            3               5           4   \n",
       "top         F     mestrado       casado  menos que $40K        blue   \n",
       "freq     5358         3128         4687            3561        9436   \n",
       "\n",
       "       limite_credito valor_transacoes_12m  \n",
       "count           10127                10127  \n",
       "unique           9272                10035  \n",
       "top          1.438,21             3.851,51  \n",
       "freq               11                    3  "
      ]
     },
     "execution_count": 7,
     "metadata": {},
     "output_type": "execute_result"
    }
   ],
   "source": [
    "df.describe(include=\"object\")"
   ]
  },
  {
   "cell_type": "markdown",
   "id": "61d4581f",
   "metadata": {
    "papermill": {
     "duration": 0.007876,
     "end_time": "2023-04-04T20:00:43.634217",
     "exception": false,
     "start_time": "2023-04-04T20:00:43.626341",
     "status": "completed"
    },
    "tags": []
   },
   "source": [
    "Colunas com valores faltantes"
   ]
  },
  {
   "cell_type": "code",
   "execution_count": 8,
   "id": "7543963b",
   "metadata": {
    "execution": {
     "iopub.execute_input": "2023-04-04T20:00:43.652733Z",
     "iopub.status.busy": "2023-04-04T20:00:43.652227Z",
     "iopub.status.idle": "2023-04-04T20:00:43.668775Z",
     "shell.execute_reply": "2023-04-04T20:00:43.667584Z"
    },
    "papermill": {
     "duration": 0.029062,
     "end_time": "2023-04-04T20:00:43.671448",
     "exception": false,
     "start_time": "2023-04-04T20:00:43.642386",
     "status": "completed"
    },
    "tags": []
   },
   "outputs": [
    {
     "data": {
      "text/plain": [
       "sexo                    False\n",
       "escolaridade             True\n",
       "estado_civil             True\n",
       "salario_anual            True\n",
       "tipo_cartao             False\n",
       "limite_credito          False\n",
       "valor_transacoes_12m    False\n",
       "dtype: bool"
      ]
     },
     "execution_count": 8,
     "metadata": {},
     "output_type": "execute_result"
    }
   ],
   "source": [
    "df.select_dtypes(\"object\").isna().any()"
   ]
  },
  {
   "cell_type": "markdown",
   "id": "b8e1b9ac",
   "metadata": {
    "papermill": {
     "duration": 0.007963,
     "end_time": "2023-04-04T20:00:43.687750",
     "exception": false,
     "start_time": "2023-04-04T20:00:43.679787",
     "status": "completed"
    },
    "tags": []
   },
   "source": [
    "### Colunas numéricas"
   ]
  },
  {
   "cell_type": "code",
   "execution_count": 9,
   "id": "c61651a2",
   "metadata": {
    "execution": {
     "iopub.execute_input": "2023-04-04T20:00:43.706676Z",
     "iopub.status.busy": "2023-04-04T20:00:43.706244Z",
     "iopub.status.idle": "2023-04-04T20:00:43.752103Z",
     "shell.execute_reply": "2023-04-04T20:00:43.750981Z"
    },
    "papermill": {
     "duration": 0.058721,
     "end_time": "2023-04-04T20:00:43.754953",
     "exception": false,
     "start_time": "2023-04-04T20:00:43.696232",
     "status": "completed"
    },
    "tags": []
   },
   "outputs": [
    {
     "data": {
      "text/html": [
       "<div>\n",
       "<style scoped>\n",
       "    .dataframe tbody tr th:only-of-type {\n",
       "        vertical-align: middle;\n",
       "    }\n",
       "\n",
       "    .dataframe tbody tr th {\n",
       "        vertical-align: top;\n",
       "    }\n",
       "\n",
       "    .dataframe thead th {\n",
       "        text-align: right;\n",
       "    }\n",
       "</style>\n",
       "<table border=\"1\" class=\"dataframe\">\n",
       "  <thead>\n",
       "    <tr style=\"text-align: right;\">\n",
       "      <th></th>\n",
       "      <th>default</th>\n",
       "      <th>idade</th>\n",
       "      <th>dependentes</th>\n",
       "      <th>meses_de_relacionamento</th>\n",
       "      <th>qtd_produtos</th>\n",
       "      <th>iteracoes_12m</th>\n",
       "      <th>meses_inativo_12m</th>\n",
       "      <th>qtd_transacoes_12m</th>\n",
       "    </tr>\n",
       "  </thead>\n",
       "  <tbody>\n",
       "    <tr>\n",
       "      <th>count</th>\n",
       "      <td>10127.000000</td>\n",
       "      <td>10127.000000</td>\n",
       "      <td>10127.000000</td>\n",
       "      <td>10127.000000</td>\n",
       "      <td>10127.000000</td>\n",
       "      <td>10127.000000</td>\n",
       "      <td>10127.000000</td>\n",
       "      <td>10127.000000</td>\n",
       "    </tr>\n",
       "    <tr>\n",
       "      <th>mean</th>\n",
       "      <td>0.160660</td>\n",
       "      <td>46.325960</td>\n",
       "      <td>2.346203</td>\n",
       "      <td>35.928409</td>\n",
       "      <td>3.812580</td>\n",
       "      <td>2.455317</td>\n",
       "      <td>2.341167</td>\n",
       "      <td>64.858695</td>\n",
       "    </tr>\n",
       "    <tr>\n",
       "      <th>std</th>\n",
       "      <td>0.367235</td>\n",
       "      <td>8.016814</td>\n",
       "      <td>1.298908</td>\n",
       "      <td>7.986416</td>\n",
       "      <td>1.554408</td>\n",
       "      <td>1.106225</td>\n",
       "      <td>1.010622</td>\n",
       "      <td>23.472570</td>\n",
       "    </tr>\n",
       "    <tr>\n",
       "      <th>min</th>\n",
       "      <td>0.000000</td>\n",
       "      <td>26.000000</td>\n",
       "      <td>0.000000</td>\n",
       "      <td>13.000000</td>\n",
       "      <td>1.000000</td>\n",
       "      <td>0.000000</td>\n",
       "      <td>0.000000</td>\n",
       "      <td>10.000000</td>\n",
       "    </tr>\n",
       "    <tr>\n",
       "      <th>25%</th>\n",
       "      <td>0.000000</td>\n",
       "      <td>41.000000</td>\n",
       "      <td>1.000000</td>\n",
       "      <td>31.000000</td>\n",
       "      <td>3.000000</td>\n",
       "      <td>2.000000</td>\n",
       "      <td>2.000000</td>\n",
       "      <td>45.000000</td>\n",
       "    </tr>\n",
       "    <tr>\n",
       "      <th>50%</th>\n",
       "      <td>0.000000</td>\n",
       "      <td>46.000000</td>\n",
       "      <td>2.000000</td>\n",
       "      <td>36.000000</td>\n",
       "      <td>4.000000</td>\n",
       "      <td>2.000000</td>\n",
       "      <td>2.000000</td>\n",
       "      <td>67.000000</td>\n",
       "    </tr>\n",
       "    <tr>\n",
       "      <th>75%</th>\n",
       "      <td>0.000000</td>\n",
       "      <td>52.000000</td>\n",
       "      <td>3.000000</td>\n",
       "      <td>40.000000</td>\n",
       "      <td>5.000000</td>\n",
       "      <td>3.000000</td>\n",
       "      <td>3.000000</td>\n",
       "      <td>81.000000</td>\n",
       "    </tr>\n",
       "    <tr>\n",
       "      <th>max</th>\n",
       "      <td>1.000000</td>\n",
       "      <td>73.000000</td>\n",
       "      <td>5.000000</td>\n",
       "      <td>56.000000</td>\n",
       "      <td>6.000000</td>\n",
       "      <td>6.000000</td>\n",
       "      <td>6.000000</td>\n",
       "      <td>139.000000</td>\n",
       "    </tr>\n",
       "  </tbody>\n",
       "</table>\n",
       "</div>"
      ],
      "text/plain": [
       "            default         idade   dependentes  meses_de_relacionamento  \\\n",
       "count  10127.000000  10127.000000  10127.000000             10127.000000   \n",
       "mean       0.160660     46.325960      2.346203                35.928409   \n",
       "std        0.367235      8.016814      1.298908                 7.986416   \n",
       "min        0.000000     26.000000      0.000000                13.000000   \n",
       "25%        0.000000     41.000000      1.000000                31.000000   \n",
       "50%        0.000000     46.000000      2.000000                36.000000   \n",
       "75%        0.000000     52.000000      3.000000                40.000000   \n",
       "max        1.000000     73.000000      5.000000                56.000000   \n",
       "\n",
       "       qtd_produtos  iteracoes_12m  meses_inativo_12m  qtd_transacoes_12m  \n",
       "count  10127.000000   10127.000000       10127.000000        10127.000000  \n",
       "mean       3.812580       2.455317           2.341167           64.858695  \n",
       "std        1.554408       1.106225           1.010622           23.472570  \n",
       "min        1.000000       0.000000           0.000000           10.000000  \n",
       "25%        3.000000       2.000000           2.000000           45.000000  \n",
       "50%        4.000000       2.000000           2.000000           67.000000  \n",
       "75%        5.000000       3.000000           3.000000           81.000000  \n",
       "max        6.000000       6.000000           6.000000          139.000000  "
      ]
     },
     "execution_count": 9,
     "metadata": {},
     "output_type": "execute_result"
    }
   ],
   "source": [
    "df.drop('id', axis=1).describe(include=\"number\")"
   ]
  },
  {
   "cell_type": "code",
   "execution_count": 10,
   "id": "406e83c8",
   "metadata": {
    "execution": {
     "iopub.execute_input": "2023-04-04T20:00:43.774325Z",
     "iopub.status.busy": "2023-04-04T20:00:43.773921Z",
     "iopub.status.idle": "2023-04-04T20:00:43.783113Z",
     "shell.execute_reply": "2023-04-04T20:00:43.781628Z"
    },
    "papermill": {
     "duration": 0.021976,
     "end_time": "2023-04-04T20:00:43.785601",
     "exception": false,
     "start_time": "2023-04-04T20:00:43.763625",
     "status": "completed"
    },
    "tags": []
   },
   "outputs": [
    {
     "name": "stdout",
     "output_type": "stream",
     "text": [
      "total adimplentes = 8500 /// 83.93% do total\n"
     ]
    }
   ],
   "source": [
    "tot_adimplente = df[df['default']==0].shape[0]\n",
    "\n",
    "print(f'total adimplentes = {tot_adimplente} /// {round(100*tot_adimplente/tot_linhas,2)}% do total')"
   ]
  },
  {
   "cell_type": "code",
   "execution_count": 11,
   "id": "27772b4b",
   "metadata": {
    "execution": {
     "iopub.execute_input": "2023-04-04T20:00:43.805166Z",
     "iopub.status.busy": "2023-04-04T20:00:43.804716Z",
     "iopub.status.idle": "2023-04-04T20:00:43.813374Z",
     "shell.execute_reply": "2023-04-04T20:00:43.812086Z"
    },
    "papermill": {
     "duration": 0.021286,
     "end_time": "2023-04-04T20:00:43.815684",
     "exception": false,
     "start_time": "2023-04-04T20:00:43.794398",
     "status": "completed"
    },
    "tags": []
   },
   "outputs": [
    {
     "name": "stdout",
     "output_type": "stream",
     "text": [
      "total inadimplentes = 1627 /// 16.07% do total\n"
     ]
    }
   ],
   "source": [
    "tot_inadimplente = df[df['default']==1].shape[0]\n",
    "\n",
    "print(f'total inadimplentes = {tot_inadimplente} /// {round(100*tot_inadimplente/tot_linhas,2)}% do total')"
   ]
  },
  {
   "cell_type": "markdown",
   "id": "8ae617a6",
   "metadata": {
    "papermill": {
     "duration": 0.008278,
     "end_time": "2023-04-04T20:00:43.832760",
     "exception": false,
     "start_time": "2023-04-04T20:00:43.824482",
     "status": "completed"
    },
    "tags": []
   },
   "source": [
    "Verificar se a proporção de dados faltantes é a mesma para os adimplentes e inadimplentes"
   ]
  },
  {
   "cell_type": "code",
   "execution_count": 12,
   "id": "2459d76d",
   "metadata": {
    "execution": {
     "iopub.execute_input": "2023-04-04T20:00:43.852740Z",
     "iopub.status.busy": "2023-04-04T20:00:43.852320Z",
     "iopub.status.idle": "2023-04-04T20:00:43.859547Z",
     "shell.execute_reply": "2023-04-04T20:00:43.858253Z"
    },
    "papermill": {
     "duration": 0.020683,
     "end_time": "2023-04-04T20:00:43.862276",
     "exception": false,
     "start_time": "2023-04-04T20:00:43.841593",
     "status": "completed"
    },
    "tags": []
   },
   "outputs": [],
   "source": [
    "def qtde_faltantes_por_coluna(df: pd.DataFrame) -> None:\n",
    "    \n",
    "    for coluna in df.columns:\n",
    "        \n",
    "        if df[coluna].isna().any():\n",
    "            \n",
    "            qtde_tot,_ = df.shape\n",
    "            qtde_na,_ = df[ df[coluna].isna() ].shape\n",
    "            \n",
    "            print(f'coluna {coluna}: qtde faltantes={qtde_na} /// {round(100*qtde_na/qtde_tot,2)}% do total')"
   ]
  },
  {
   "cell_type": "code",
   "execution_count": 13,
   "id": "fda7cc42",
   "metadata": {
    "execution": {
     "iopub.execute_input": "2023-04-04T20:00:43.881927Z",
     "iopub.status.busy": "2023-04-04T20:00:43.881445Z",
     "iopub.status.idle": "2023-04-04T20:00:43.908442Z",
     "shell.execute_reply": "2023-04-04T20:00:43.906789Z"
    },
    "papermill": {
     "duration": 0.040117,
     "end_time": "2023-04-04T20:00:43.911403",
     "exception": false,
     "start_time": "2023-04-04T20:00:43.871286",
     "status": "completed"
    },
    "tags": []
   },
   "outputs": [
    {
     "name": "stdout",
     "output_type": "stream",
     "text": [
      "coluna escolaridade: qtde faltantes=1263 /// 14.86% do total\n",
      "coluna estado_civil: qtde faltantes=620 /// 7.29% do total\n",
      "coluna salario_anual: qtde faltantes=925 /// 10.88% do total\n",
      "----------------------------------------------------------\n",
      "coluna escolaridade: qtde faltantes=256 /// 15.73% do total\n",
      "coluna estado_civil: qtde faltantes=129 /// 7.93% do total\n",
      "coluna salario_anual: qtde faltantes=187 /// 11.49% do total\n"
     ]
    }
   ],
   "source": [
    "#Proporção de dados faltantes para os clientes adimplentes\n",
    "qtde_faltantes_por_coluna(df[df['default']==0])\n",
    "\n",
    "print('----------------------------------------------------------')\n",
    "\n",
    "#Proporção de dados faltantes para os clientes inadimplmentes\n",
    "qtde_faltantes_por_coluna(df[df['default']==1])"
   ]
  },
  {
   "cell_type": "markdown",
   "id": "412d417f",
   "metadata": {
    "papermill": {
     "duration": 0.008535,
     "end_time": "2023-04-04T20:00:43.928913",
     "exception": false,
     "start_time": "2023-04-04T20:00:43.920378",
     "status": "completed"
    },
    "tags": []
   },
   "source": [
    "Como as proporções acima são equivalentes, será possível remover as tuplas com dados faltantes no dataset"
   ]
  },
  {
   "cell_type": "markdown",
   "id": "da31410f",
   "metadata": {
    "id": "y9Jx_LUycbFJ",
    "papermill": {
     "duration": 0.008585,
     "end_time": "2023-04-04T20:00:43.946269",
     "exception": false,
     "start_time": "2023-04-04T20:00:43.937684",
     "status": "completed"
    },
    "tags": []
   },
   "source": [
    "## Transformação e limpeza dos dados"
   ]
  },
  {
   "cell_type": "markdown",
   "id": "087ce97c",
   "metadata": {
    "papermill": {
     "duration": 0.008413,
     "end_time": "2023-04-04T20:00:43.963331",
     "exception": false,
     "start_time": "2023-04-04T20:00:43.954918",
     "status": "completed"
    },
    "tags": []
   },
   "source": [
    "Remoção das linhas com dados faltantes"
   ]
  },
  {
   "cell_type": "code",
   "execution_count": 14,
   "id": "ea4f39b6",
   "metadata": {
    "execution": {
     "iopub.execute_input": "2023-04-04T20:00:43.983440Z",
     "iopub.status.busy": "2023-04-04T20:00:43.982986Z",
     "iopub.status.idle": "2023-04-04T20:00:44.007968Z",
     "shell.execute_reply": "2023-04-04T20:00:44.006667Z"
    },
    "id": "m4eexYgOcgeZ",
    "papermill": {
     "duration": 0.038693,
     "end_time": "2023-04-04T20:00:44.010860",
     "exception": false,
     "start_time": "2023-04-04T20:00:43.972167",
     "status": "completed"
    },
    "tags": []
   },
   "outputs": [
    {
     "name": "stdout",
     "output_type": "stream",
     "text": [
      "id                            0\n",
      "default                       0\n",
      "idade                         0\n",
      "sexo                          0\n",
      "dependentes                   0\n",
      "escolaridade               1519\n",
      "estado_civil                749\n",
      "salario_anual              1112\n",
      "tipo_cartao                   0\n",
      "meses_de_relacionamento       0\n",
      "qtd_produtos                  0\n",
      "iteracoes_12m                 0\n",
      "meses_inativo_12m             0\n",
      "limite_credito                0\n",
      "valor_transacoes_12m          0\n",
      "qtd_transacoes_12m            0\n",
      "dtype: int64\n",
      "=========================================\n",
      "id                         0\n",
      "default                    0\n",
      "idade                      0\n",
      "sexo                       0\n",
      "dependentes                0\n",
      "escolaridade               0\n",
      "estado_civil               0\n",
      "salario_anual              0\n",
      "tipo_cartao                0\n",
      "meses_de_relacionamento    0\n",
      "qtd_produtos               0\n",
      "iteracoes_12m              0\n",
      "meses_inativo_12m          0\n",
      "limite_credito             0\n",
      "valor_transacoes_12m       0\n",
      "qtd_transacoes_12m         0\n",
      "dtype: int64\n"
     ]
    }
   ],
   "source": [
    "#Qtde de NaN por coluna antes da remoção\n",
    "print(df.isna().sum())\n",
    "\n",
    "print(\"=========================================\")\n",
    "\n",
    "#Remove as linhas com valores NaN\n",
    "df.dropna(inplace=True)\n",
    "\n",
    "#Qtde de NaN por coluna após remoção\n",
    "print(df.isna().sum())"
   ]
  },
  {
   "cell_type": "markdown",
   "id": "6cdfd746",
   "metadata": {
    "papermill": {
     "duration": 0.009221,
     "end_time": "2023-04-04T20:00:44.029048",
     "exception": false,
     "start_time": "2023-04-04T20:00:44.019827",
     "status": "completed"
    },
    "tags": []
   },
   "source": [
    "Alterando as colunas \"limite_credito\" e \"valor_transacoes_12m\" para float"
   ]
  },
  {
   "cell_type": "code",
   "execution_count": 15,
   "id": "825b9d4e",
   "metadata": {
    "execution": {
     "iopub.execute_input": "2023-04-04T20:00:44.049762Z",
     "iopub.status.busy": "2023-04-04T20:00:44.048658Z",
     "iopub.status.idle": "2023-04-04T20:00:44.062926Z",
     "shell.execute_reply": "2023-04-04T20:00:44.061695Z"
    },
    "papermill": {
     "duration": 0.027677,
     "end_time": "2023-04-04T20:00:44.065652",
     "exception": false,
     "start_time": "2023-04-04T20:00:44.037975",
     "status": "completed"
    },
    "tags": []
   },
   "outputs": [
    {
     "data": {
      "text/html": [
       "<div>\n",
       "<style scoped>\n",
       "    .dataframe tbody tr th:only-of-type {\n",
       "        vertical-align: middle;\n",
       "    }\n",
       "\n",
       "    .dataframe tbody tr th {\n",
       "        vertical-align: top;\n",
       "    }\n",
       "\n",
       "    .dataframe thead th {\n",
       "        text-align: right;\n",
       "    }\n",
       "</style>\n",
       "<table border=\"1\" class=\"dataframe\">\n",
       "  <thead>\n",
       "    <tr style=\"text-align: right;\">\n",
       "      <th></th>\n",
       "      <th>limite_credito</th>\n",
       "      <th>valor_transacoes_12m</th>\n",
       "    </tr>\n",
       "  </thead>\n",
       "  <tbody>\n",
       "    <tr>\n",
       "      <th>0</th>\n",
       "      <td>12.691,51</td>\n",
       "      <td>1.144,90</td>\n",
       "    </tr>\n",
       "    <tr>\n",
       "      <th>1</th>\n",
       "      <td>8.256,96</td>\n",
       "      <td>1.291,45</td>\n",
       "    </tr>\n",
       "    <tr>\n",
       "      <th>2</th>\n",
       "      <td>3.418,56</td>\n",
       "      <td>1.887,72</td>\n",
       "    </tr>\n",
       "    <tr>\n",
       "      <th>4</th>\n",
       "      <td>4.716,22</td>\n",
       "      <td>816,08</td>\n",
       "    </tr>\n",
       "    <tr>\n",
       "      <th>5</th>\n",
       "      <td>4.010,69</td>\n",
       "      <td>1.088,07</td>\n",
       "    </tr>\n",
       "  </tbody>\n",
       "</table>\n",
       "</div>"
      ],
      "text/plain": [
       "  limite_credito valor_transacoes_12m\n",
       "0      12.691,51             1.144,90\n",
       "1       8.256,96             1.291,45\n",
       "2       3.418,56             1.887,72\n",
       "4       4.716,22               816,08\n",
       "5       4.010,69             1.088,07"
      ]
     },
     "execution_count": 15,
     "metadata": {},
     "output_type": "execute_result"
    }
   ],
   "source": [
    "colunas = ['limite_credito', 'valor_transacoes_12m']\n",
    "df[colunas].head(n=5)"
   ]
  },
  {
   "cell_type": "code",
   "execution_count": 16,
   "id": "d791536a",
   "metadata": {
    "execution": {
     "iopub.execute_input": "2023-04-04T20:00:44.086565Z",
     "iopub.status.busy": "2023-04-04T20:00:44.086098Z",
     "iopub.status.idle": "2023-04-04T20:00:44.107381Z",
     "shell.execute_reply": "2023-04-04T20:00:44.106376Z"
    },
    "papermill": {
     "duration": 0.034637,
     "end_time": "2023-04-04T20:00:44.109815",
     "exception": false,
     "start_time": "2023-04-04T20:00:44.075178",
     "status": "completed"
    },
    "tags": []
   },
   "outputs": [],
   "source": [
    "#funcao para converter cada linha da coluna\n",
    "funcao = lambda valor: float( valor.replace(\".\", \"\").replace(\",\", \".\") )\n",
    "\n",
    "#aplica para a coluna \"limite_credito\"\n",
    "df['limite_credito'] = df['limite_credito'].apply(funcao)\n",
    "\n",
    "#aplica para a coluna \"valor_transacoes_12m\"\n",
    "df['valor_transacoes_12m'] = df['valor_transacoes_12m'].apply(funcao)"
   ]
  },
  {
   "cell_type": "code",
   "execution_count": 17,
   "id": "ae7e567f",
   "metadata": {
    "execution": {
     "iopub.execute_input": "2023-04-04T20:00:44.130332Z",
     "iopub.status.busy": "2023-04-04T20:00:44.129885Z",
     "iopub.status.idle": "2023-04-04T20:00:44.140987Z",
     "shell.execute_reply": "2023-04-04T20:00:44.139687Z"
    },
    "papermill": {
     "duration": 0.02469,
     "end_time": "2023-04-04T20:00:44.143480",
     "exception": false,
     "start_time": "2023-04-04T20:00:44.118790",
     "status": "completed"
    },
    "tags": []
   },
   "outputs": [
    {
     "data": {
      "text/plain": [
       "limite_credito          float64\n",
       "valor_transacoes_12m    float64\n",
       "dtype: object"
      ]
     },
     "execution_count": 17,
     "metadata": {},
     "output_type": "execute_result"
    }
   ],
   "source": [
    "colunas = ['limite_credito', 'valor_transacoes_12m']\n",
    "df[colunas].dtypes.head(n=5)"
   ]
  },
  {
   "cell_type": "markdown",
   "id": "204a6e37",
   "metadata": {
    "id": "hSQ8p2gXclY3",
    "papermill": {
     "duration": 0.008749,
     "end_time": "2023-04-04T20:00:44.161314",
     "exception": false,
     "start_time": "2023-04-04T20:00:44.152565",
     "status": "completed"
    },
    "tags": []
   },
   "source": [
    "## Visualização dos dados"
   ]
  },
  {
   "cell_type": "code",
   "execution_count": 18,
   "id": "72393ec2",
   "metadata": {
    "execution": {
     "iopub.execute_input": "2023-04-04T20:00:44.182591Z",
     "iopub.status.busy": "2023-04-04T20:00:44.181660Z",
     "iopub.status.idle": "2023-04-04T20:00:44.187382Z",
     "shell.execute_reply": "2023-04-04T20:00:44.185929Z"
    },
    "id": "veUP8_RKc_8Z",
    "papermill": {
     "duration": 0.019412,
     "end_time": "2023-04-04T20:00:44.189931",
     "exception": false,
     "start_time": "2023-04-04T20:00:44.170519",
     "status": "completed"
    },
    "tags": []
   },
   "outputs": [],
   "source": [
    "#Visualização"
   ]
  },
  {
   "cell_type": "markdown",
   "id": "e661f4dd",
   "metadata": {
    "id": "RzNSMOmVdB5I",
    "papermill": {
     "duration": 0.00915,
     "end_time": "2023-04-04T20:00:44.208466",
     "exception": false,
     "start_time": "2023-04-04T20:00:44.199316",
     "status": "completed"
    },
    "tags": []
   },
   "source": [
    "## Storytelling"
   ]
  }
 ],
 "metadata": {
  "kernelspec": {
   "display_name": "Python 3",
   "language": "python",
   "name": "python3"
  },
  "language_info": {
   "codemirror_mode": {
    "name": "ipython",
    "version": 3
   },
   "file_extension": ".py",
   "mimetype": "text/x-python",
   "name": "python",
   "nbconvert_exporter": "python",
   "pygments_lexer": "ipython3",
   "version": "3.7.12"
  },
  "papermill": {
   "default_parameters": {},
   "duration": 13.53812,
   "end_time": "2023-04-04T20:00:44.942146",
   "environment_variables": {},
   "exception": null,
   "input_path": "__notebook__.ipynb",
   "output_path": "__notebook__.ipynb",
   "parameters": {},
   "start_time": "2023-04-04T20:00:31.404026",
   "version": "2.4.0"
  }
 },
 "nbformat": 4,
 "nbformat_minor": 5
}
