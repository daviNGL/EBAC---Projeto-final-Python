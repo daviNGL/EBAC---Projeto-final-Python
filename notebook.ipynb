{
 "cells": [
  {
   "cell_type": "markdown",
   "id": "fb5acc66",
   "metadata": {
    "id": "KJqp9AANOCtf",
    "papermill": {
     "duration": 0.007728,
     "end_time": "2023-04-04T20:56:48.014298",
     "exception": false,
     "start_time": "2023-04-04T20:56:48.006570",
     "status": "completed"
    },
    "tags": []
   },
   "source": [
    "---\n",
    "\n",
    "# Python: Projeto Final\n",
    "\n",
    "Projeto final do curso de Python que compõe a formação \"Cientista de Dados\" da **EBAC** - Escola Britânica de Artes Criativas e Tecnologia.\n",
    "\n",
    "---"
   ]
  },
  {
   "cell_type": "markdown",
   "id": "862029c1",
   "metadata": {
    "id": "KzGBmo_sZaQP",
    "papermill": {
     "duration": 0.007066,
     "end_time": "2023-04-04T20:56:48.028438",
     "exception": false,
     "start_time": "2023-04-04T20:56:48.021372",
     "status": "completed"
    },
    "tags": []
   },
   "source": [
    "---\n",
    "\n",
    "## Objetivo\n",
    "\n",
    "Este projeto tem como objetivo realizar uma analise de crédito, para identificar possíveis clientes inadimplentes.\n",
    "\n",
    "Para o projeto, foi fornecido um conjunto de dados de crédito em um arquivo CSV, e serão feitas a exploração, manipulação, limpeza e visualização dos dados. Além de gerar os *insights* das analises realizadas. \n",
    "\n",
    "A coluna que indica adimplencia ou inadimplencia é a *default*, valores 0 e 1, respectivamente.\n",
    "\n",
    "---\n"
   ]
  },
  {
   "cell_type": "markdown",
   "id": "b7bc409e",
   "metadata": {
    "id": "I-HgD7lkbjpw",
    "papermill": {
     "duration": 0.006784,
     "end_time": "2023-04-04T20:56:48.042559",
     "exception": false,
     "start_time": "2023-04-04T20:56:48.035775",
     "status": "completed"
    },
    "tags": []
   },
   "source": [
    "## Importações"
   ]
  },
  {
   "cell_type": "code",
   "execution_count": 1,
   "id": "404b9a50",
   "metadata": {
    "execution": {
     "iopub.execute_input": "2023-04-04T20:56:48.058696Z",
     "iopub.status.busy": "2023-04-04T20:56:48.058097Z",
     "iopub.status.idle": "2023-04-04T20:56:49.214758Z",
     "shell.execute_reply": "2023-04-04T20:56:49.213773Z"
    },
    "id": "2y8zAhgFK1rs",
    "papermill": {
     "duration": 1.167917,
     "end_time": "2023-04-04T20:56:49.217501",
     "exception": false,
     "start_time": "2023-04-04T20:56:48.049584",
     "status": "completed"
    },
    "tags": []
   },
   "outputs": [],
   "source": [
    "import pandas as pd\n",
    "import seaborn as sns\n",
    "\n",
    "import matplotlib.pyplot as plt"
   ]
  },
  {
   "cell_type": "markdown",
   "id": "11b1530b",
   "metadata": {
    "id": "D5FJG4v2cTXw",
    "papermill": {
     "duration": 0.006538,
     "end_time": "2023-04-04T20:56:49.231171",
     "exception": false,
     "start_time": "2023-04-04T20:56:49.224633",
     "status": "completed"
    },
    "tags": []
   },
   "source": [
    "## Exploração dos dados"
   ]
  },
  {
   "cell_type": "code",
   "execution_count": 2,
   "id": "69570f29",
   "metadata": {
    "execution": {
     "iopub.execute_input": "2023-04-04T20:56:49.248213Z",
     "iopub.status.busy": "2023-04-04T20:56:49.247829Z",
     "iopub.status.idle": "2023-04-04T20:56:49.299430Z",
     "shell.execute_reply": "2023-04-04T20:56:49.298354Z"
    },
    "id": "TZnVxaSdcY-g",
    "papermill": {
     "duration": 0.063123,
     "end_time": "2023-04-04T20:56:49.301892",
     "exception": false,
     "start_time": "2023-04-04T20:56:49.238769",
     "status": "completed"
    },
    "tags": []
   },
   "outputs": [],
   "source": [
    "#Abertura e leitura do CSV\n",
    "df = pd.read_csv('/kaggle/input/ebac-basedados/Python_M10_support material.csv', na_values='na')"
   ]
  },
  {
   "cell_type": "code",
   "execution_count": 3,
   "id": "066feb89",
   "metadata": {
    "execution": {
     "iopub.execute_input": "2023-04-04T20:56:49.317859Z",
     "iopub.status.busy": "2023-04-04T20:56:49.317042Z",
     "iopub.status.idle": "2023-04-04T20:56:49.352276Z",
     "shell.execute_reply": "2023-04-04T20:56:49.350712Z"
    },
    "papermill": {
     "duration": 0.045929,
     "end_time": "2023-04-04T20:56:49.354911",
     "exception": false,
     "start_time": "2023-04-04T20:56:49.308982",
     "status": "completed"
    },
    "tags": []
   },
   "outputs": [
    {
     "data": {
      "text/html": [
       "<div>\n",
       "<style scoped>\n",
       "    .dataframe tbody tr th:only-of-type {\n",
       "        vertical-align: middle;\n",
       "    }\n",
       "\n",
       "    .dataframe tbody tr th {\n",
       "        vertical-align: top;\n",
       "    }\n",
       "\n",
       "    .dataframe thead th {\n",
       "        text-align: right;\n",
       "    }\n",
       "</style>\n",
       "<table border=\"1\" class=\"dataframe\">\n",
       "  <thead>\n",
       "    <tr style=\"text-align: right;\">\n",
       "      <th></th>\n",
       "      <th>id</th>\n",
       "      <th>default</th>\n",
       "      <th>idade</th>\n",
       "      <th>sexo</th>\n",
       "      <th>dependentes</th>\n",
       "      <th>escolaridade</th>\n",
       "      <th>estado_civil</th>\n",
       "      <th>salario_anual</th>\n",
       "      <th>tipo_cartao</th>\n",
       "      <th>meses_de_relacionamento</th>\n",
       "      <th>qtd_produtos</th>\n",
       "      <th>iteracoes_12m</th>\n",
       "      <th>meses_inativo_12m</th>\n",
       "      <th>limite_credito</th>\n",
       "      <th>valor_transacoes_12m</th>\n",
       "      <th>qtd_transacoes_12m</th>\n",
       "    </tr>\n",
       "  </thead>\n",
       "  <tbody>\n",
       "    <tr>\n",
       "      <th>0</th>\n",
       "      <td>768805383</td>\n",
       "      <td>0</td>\n",
       "      <td>45</td>\n",
       "      <td>M</td>\n",
       "      <td>3</td>\n",
       "      <td>ensino medio</td>\n",
       "      <td>casado</td>\n",
       "      <td>$60K - $80K</td>\n",
       "      <td>blue</td>\n",
       "      <td>39</td>\n",
       "      <td>5</td>\n",
       "      <td>3</td>\n",
       "      <td>1</td>\n",
       "      <td>12.691,51</td>\n",
       "      <td>1.144,90</td>\n",
       "      <td>42</td>\n",
       "    </tr>\n",
       "    <tr>\n",
       "      <th>1</th>\n",
       "      <td>818770008</td>\n",
       "      <td>0</td>\n",
       "      <td>49</td>\n",
       "      <td>F</td>\n",
       "      <td>5</td>\n",
       "      <td>mestrado</td>\n",
       "      <td>solteiro</td>\n",
       "      <td>menos que $40K</td>\n",
       "      <td>blue</td>\n",
       "      <td>44</td>\n",
       "      <td>6</td>\n",
       "      <td>2</td>\n",
       "      <td>1</td>\n",
       "      <td>8.256,96</td>\n",
       "      <td>1.291,45</td>\n",
       "      <td>33</td>\n",
       "    </tr>\n",
       "    <tr>\n",
       "      <th>2</th>\n",
       "      <td>713982108</td>\n",
       "      <td>0</td>\n",
       "      <td>51</td>\n",
       "      <td>M</td>\n",
       "      <td>3</td>\n",
       "      <td>mestrado</td>\n",
       "      <td>casado</td>\n",
       "      <td>$80K - $120K</td>\n",
       "      <td>blue</td>\n",
       "      <td>36</td>\n",
       "      <td>4</td>\n",
       "      <td>0</td>\n",
       "      <td>1</td>\n",
       "      <td>3.418,56</td>\n",
       "      <td>1.887,72</td>\n",
       "      <td>20</td>\n",
       "    </tr>\n",
       "    <tr>\n",
       "      <th>3</th>\n",
       "      <td>769911858</td>\n",
       "      <td>0</td>\n",
       "      <td>40</td>\n",
       "      <td>F</td>\n",
       "      <td>4</td>\n",
       "      <td>ensino medio</td>\n",
       "      <td>NaN</td>\n",
       "      <td>menos que $40K</td>\n",
       "      <td>blue</td>\n",
       "      <td>34</td>\n",
       "      <td>3</td>\n",
       "      <td>1</td>\n",
       "      <td>4</td>\n",
       "      <td>3.313,03</td>\n",
       "      <td>1.171,56</td>\n",
       "      <td>20</td>\n",
       "    </tr>\n",
       "    <tr>\n",
       "      <th>4</th>\n",
       "      <td>709106358</td>\n",
       "      <td>0</td>\n",
       "      <td>40</td>\n",
       "      <td>M</td>\n",
       "      <td>3</td>\n",
       "      <td>sem educacao formal</td>\n",
       "      <td>casado</td>\n",
       "      <td>$60K - $80K</td>\n",
       "      <td>blue</td>\n",
       "      <td>21</td>\n",
       "      <td>5</td>\n",
       "      <td>0</td>\n",
       "      <td>1</td>\n",
       "      <td>4.716,22</td>\n",
       "      <td>816,08</td>\n",
       "      <td>28</td>\n",
       "    </tr>\n",
       "  </tbody>\n",
       "</table>\n",
       "</div>"
      ],
      "text/plain": [
       "          id  default  idade sexo  dependentes         escolaridade  \\\n",
       "0  768805383        0     45    M            3         ensino medio   \n",
       "1  818770008        0     49    F            5             mestrado   \n",
       "2  713982108        0     51    M            3             mestrado   \n",
       "3  769911858        0     40    F            4         ensino medio   \n",
       "4  709106358        0     40    M            3  sem educacao formal   \n",
       "\n",
       "  estado_civil   salario_anual tipo_cartao  meses_de_relacionamento  \\\n",
       "0       casado     $60K - $80K        blue                       39   \n",
       "1     solteiro  menos que $40K        blue                       44   \n",
       "2       casado    $80K - $120K        blue                       36   \n",
       "3          NaN  menos que $40K        blue                       34   \n",
       "4       casado     $60K - $80K        blue                       21   \n",
       "\n",
       "   qtd_produtos  iteracoes_12m  meses_inativo_12m limite_credito  \\\n",
       "0             5              3                  1      12.691,51   \n",
       "1             6              2                  1       8.256,96   \n",
       "2             4              0                  1       3.418,56   \n",
       "3             3              1                  4       3.313,03   \n",
       "4             5              0                  1       4.716,22   \n",
       "\n",
       "  valor_transacoes_12m  qtd_transacoes_12m  \n",
       "0             1.144,90                  42  \n",
       "1             1.291,45                  33  \n",
       "2             1.887,72                  20  \n",
       "3             1.171,56                  20  \n",
       "4               816,08                  28  "
      ]
     },
     "execution_count": 3,
     "metadata": {},
     "output_type": "execute_result"
    }
   ],
   "source": [
    "df.head(n=5)"
   ]
  },
  {
   "cell_type": "code",
   "execution_count": 4,
   "id": "a56a3804",
   "metadata": {
    "execution": {
     "iopub.execute_input": "2023-04-04T20:56:49.371389Z",
     "iopub.status.busy": "2023-04-04T20:56:49.371025Z",
     "iopub.status.idle": "2023-04-04T20:56:49.387496Z",
     "shell.execute_reply": "2023-04-04T20:56:49.386491Z"
    },
    "papermill": {
     "duration": 0.027661,
     "end_time": "2023-04-04T20:56:49.390178",
     "exception": false,
     "start_time": "2023-04-04T20:56:49.362517",
     "status": "completed"
    },
    "tags": []
   },
   "outputs": [
    {
     "data": {
      "text/html": [
       "<div>\n",
       "<style scoped>\n",
       "    .dataframe tbody tr th:only-of-type {\n",
       "        vertical-align: middle;\n",
       "    }\n",
       "\n",
       "    .dataframe tbody tr th {\n",
       "        vertical-align: top;\n",
       "    }\n",
       "\n",
       "    .dataframe thead th {\n",
       "        text-align: right;\n",
       "    }\n",
       "</style>\n",
       "<table border=\"1\" class=\"dataframe\">\n",
       "  <thead>\n",
       "    <tr style=\"text-align: right;\">\n",
       "      <th></th>\n",
       "      <th>id</th>\n",
       "      <th>default</th>\n",
       "      <th>idade</th>\n",
       "      <th>sexo</th>\n",
       "      <th>dependentes</th>\n",
       "      <th>escolaridade</th>\n",
       "      <th>estado_civil</th>\n",
       "      <th>salario_anual</th>\n",
       "      <th>tipo_cartao</th>\n",
       "      <th>meses_de_relacionamento</th>\n",
       "      <th>qtd_produtos</th>\n",
       "      <th>iteracoes_12m</th>\n",
       "      <th>meses_inativo_12m</th>\n",
       "      <th>limite_credito</th>\n",
       "      <th>valor_transacoes_12m</th>\n",
       "      <th>qtd_transacoes_12m</th>\n",
       "    </tr>\n",
       "  </thead>\n",
       "  <tbody>\n",
       "    <tr>\n",
       "      <th>10122</th>\n",
       "      <td>772366833</td>\n",
       "      <td>0</td>\n",
       "      <td>50</td>\n",
       "      <td>M</td>\n",
       "      <td>2</td>\n",
       "      <td>mestrado</td>\n",
       "      <td>solteiro</td>\n",
       "      <td>$40K - $60K</td>\n",
       "      <td>blue</td>\n",
       "      <td>40</td>\n",
       "      <td>3</td>\n",
       "      <td>3</td>\n",
       "      <td>2</td>\n",
       "      <td>4.003,91</td>\n",
       "      <td>15.476,26</td>\n",
       "      <td>117</td>\n",
       "    </tr>\n",
       "    <tr>\n",
       "      <th>10123</th>\n",
       "      <td>710638233</td>\n",
       "      <td>1</td>\n",
       "      <td>41</td>\n",
       "      <td>M</td>\n",
       "      <td>2</td>\n",
       "      <td>NaN</td>\n",
       "      <td>divorciado</td>\n",
       "      <td>$40K - $60K</td>\n",
       "      <td>blue</td>\n",
       "      <td>25</td>\n",
       "      <td>4</td>\n",
       "      <td>3</td>\n",
       "      <td>2</td>\n",
       "      <td>4.277,04</td>\n",
       "      <td>8.764,88</td>\n",
       "      <td>69</td>\n",
       "    </tr>\n",
       "    <tr>\n",
       "      <th>10124</th>\n",
       "      <td>716506083</td>\n",
       "      <td>1</td>\n",
       "      <td>44</td>\n",
       "      <td>F</td>\n",
       "      <td>1</td>\n",
       "      <td>ensino medio</td>\n",
       "      <td>casado</td>\n",
       "      <td>menos que $40K</td>\n",
       "      <td>blue</td>\n",
       "      <td>36</td>\n",
       "      <td>5</td>\n",
       "      <td>4</td>\n",
       "      <td>3</td>\n",
       "      <td>5.409,16</td>\n",
       "      <td>10.291,78</td>\n",
       "      <td>60</td>\n",
       "    </tr>\n",
       "    <tr>\n",
       "      <th>10125</th>\n",
       "      <td>717406983</td>\n",
       "      <td>1</td>\n",
       "      <td>30</td>\n",
       "      <td>M</td>\n",
       "      <td>2</td>\n",
       "      <td>mestrado</td>\n",
       "      <td>NaN</td>\n",
       "      <td>$40K - $60K</td>\n",
       "      <td>blue</td>\n",
       "      <td>36</td>\n",
       "      <td>4</td>\n",
       "      <td>3</td>\n",
       "      <td>3</td>\n",
       "      <td>5.281,84</td>\n",
       "      <td>8.395,62</td>\n",
       "      <td>62</td>\n",
       "    </tr>\n",
       "    <tr>\n",
       "      <th>10126</th>\n",
       "      <td>714337233</td>\n",
       "      <td>1</td>\n",
       "      <td>43</td>\n",
       "      <td>F</td>\n",
       "      <td>2</td>\n",
       "      <td>mestrado</td>\n",
       "      <td>casado</td>\n",
       "      <td>menos que $40K</td>\n",
       "      <td>silver</td>\n",
       "      <td>25</td>\n",
       "      <td>6</td>\n",
       "      <td>4</td>\n",
       "      <td>2</td>\n",
       "      <td>10.388,80</td>\n",
       "      <td>10.294,96</td>\n",
       "      <td>61</td>\n",
       "    </tr>\n",
       "  </tbody>\n",
       "</table>\n",
       "</div>"
      ],
      "text/plain": [
       "              id  default  idade sexo  dependentes  escolaridade estado_civil  \\\n",
       "10122  772366833        0     50    M            2      mestrado     solteiro   \n",
       "10123  710638233        1     41    M            2           NaN   divorciado   \n",
       "10124  716506083        1     44    F            1  ensino medio       casado   \n",
       "10125  717406983        1     30    M            2      mestrado          NaN   \n",
       "10126  714337233        1     43    F            2      mestrado       casado   \n",
       "\n",
       "        salario_anual tipo_cartao  meses_de_relacionamento  qtd_produtos  \\\n",
       "10122     $40K - $60K        blue                       40             3   \n",
       "10123     $40K - $60K        blue                       25             4   \n",
       "10124  menos que $40K        blue                       36             5   \n",
       "10125     $40K - $60K        blue                       36             4   \n",
       "10126  menos que $40K      silver                       25             6   \n",
       "\n",
       "       iteracoes_12m  meses_inativo_12m limite_credito valor_transacoes_12m  \\\n",
       "10122              3                  2       4.003,91            15.476,26   \n",
       "10123              3                  2       4.277,04             8.764,88   \n",
       "10124              4                  3       5.409,16            10.291,78   \n",
       "10125              3                  3       5.281,84             8.395,62   \n",
       "10126              4                  2      10.388,80            10.294,96   \n",
       "\n",
       "       qtd_transacoes_12m  \n",
       "10122                 117  \n",
       "10123                  69  \n",
       "10124                  60  \n",
       "10125                  62  \n",
       "10126                  61  "
      ]
     },
     "execution_count": 4,
     "metadata": {},
     "output_type": "execute_result"
    }
   ],
   "source": [
    "df.tail(n=5)"
   ]
  },
  {
   "cell_type": "code",
   "execution_count": 5,
   "id": "ac76792e",
   "metadata": {
    "execution": {
     "iopub.execute_input": "2023-04-04T20:56:49.407423Z",
     "iopub.status.busy": "2023-04-04T20:56:49.406647Z",
     "iopub.status.idle": "2023-04-04T20:56:49.414127Z",
     "shell.execute_reply": "2023-04-04T20:56:49.412314Z"
    },
    "papermill": {
     "duration": 0.018719,
     "end_time": "2023-04-04T20:56:49.416571",
     "exception": false,
     "start_time": "2023-04-04T20:56:49.397852",
     "status": "completed"
    },
    "tags": []
   },
   "outputs": [
    {
     "name": "stdout",
     "output_type": "stream",
     "text": [
      "linhas=10127 colunas=16\n"
     ]
    }
   ],
   "source": [
    "tot_linhas, tot_colunas = df.shape\n",
    "print(f'linhas={tot_linhas} colunas={tot_colunas}')"
   ]
  },
  {
   "cell_type": "code",
   "execution_count": 6,
   "id": "ae424e78",
   "metadata": {
    "execution": {
     "iopub.execute_input": "2023-04-04T20:56:49.433161Z",
     "iopub.status.busy": "2023-04-04T20:56:49.432805Z",
     "iopub.status.idle": "2023-04-04T20:56:49.442420Z",
     "shell.execute_reply": "2023-04-04T20:56:49.441386Z"
    },
    "papermill": {
     "duration": 0.020306,
     "end_time": "2023-04-04T20:56:49.444347",
     "exception": false,
     "start_time": "2023-04-04T20:56:49.424041",
     "status": "completed"
    },
    "tags": []
   },
   "outputs": [
    {
     "data": {
      "text/plain": [
       "id                          int64\n",
       "default                     int64\n",
       "idade                       int64\n",
       "sexo                       object\n",
       "dependentes                 int64\n",
       "escolaridade               object\n",
       "estado_civil               object\n",
       "salario_anual              object\n",
       "tipo_cartao                object\n",
       "meses_de_relacionamento     int64\n",
       "qtd_produtos                int64\n",
       "iteracoes_12m               int64\n",
       "meses_inativo_12m           int64\n",
       "limite_credito             object\n",
       "valor_transacoes_12m       object\n",
       "qtd_transacoes_12m          int64\n",
       "dtype: object"
      ]
     },
     "execution_count": 6,
     "metadata": {},
     "output_type": "execute_result"
    }
   ],
   "source": [
    "df.dtypes"
   ]
  },
  {
   "cell_type": "markdown",
   "id": "05f0d782",
   "metadata": {
    "papermill": {
     "duration": 0.00721,
     "end_time": "2023-04-04T20:56:49.459818",
     "exception": false,
     "start_time": "2023-04-04T20:56:49.452608",
     "status": "completed"
    },
    "tags": []
   },
   "source": [
    "### Colunas categóricas"
   ]
  },
  {
   "cell_type": "code",
   "execution_count": 7,
   "id": "b24dc2c4",
   "metadata": {
    "execution": {
     "iopub.execute_input": "2023-04-04T20:56:49.476567Z",
     "iopub.status.busy": "2023-04-04T20:56:49.476165Z",
     "iopub.status.idle": "2023-04-04T20:56:49.518528Z",
     "shell.execute_reply": "2023-04-04T20:56:49.517119Z"
    },
    "papermill": {
     "duration": 0.053838,
     "end_time": "2023-04-04T20:56:49.521041",
     "exception": false,
     "start_time": "2023-04-04T20:56:49.467203",
     "status": "completed"
    },
    "tags": []
   },
   "outputs": [
    {
     "data": {
      "text/html": [
       "<div>\n",
       "<style scoped>\n",
       "    .dataframe tbody tr th:only-of-type {\n",
       "        vertical-align: middle;\n",
       "    }\n",
       "\n",
       "    .dataframe tbody tr th {\n",
       "        vertical-align: top;\n",
       "    }\n",
       "\n",
       "    .dataframe thead th {\n",
       "        text-align: right;\n",
       "    }\n",
       "</style>\n",
       "<table border=\"1\" class=\"dataframe\">\n",
       "  <thead>\n",
       "    <tr style=\"text-align: right;\">\n",
       "      <th></th>\n",
       "      <th>sexo</th>\n",
       "      <th>escolaridade</th>\n",
       "      <th>estado_civil</th>\n",
       "      <th>salario_anual</th>\n",
       "      <th>tipo_cartao</th>\n",
       "      <th>limite_credito</th>\n",
       "      <th>valor_transacoes_12m</th>\n",
       "    </tr>\n",
       "  </thead>\n",
       "  <tbody>\n",
       "    <tr>\n",
       "      <th>count</th>\n",
       "      <td>10127</td>\n",
       "      <td>8608</td>\n",
       "      <td>9378</td>\n",
       "      <td>9015</td>\n",
       "      <td>10127</td>\n",
       "      <td>10127</td>\n",
       "      <td>10127</td>\n",
       "    </tr>\n",
       "    <tr>\n",
       "      <th>unique</th>\n",
       "      <td>2</td>\n",
       "      <td>5</td>\n",
       "      <td>3</td>\n",
       "      <td>5</td>\n",
       "      <td>4</td>\n",
       "      <td>9272</td>\n",
       "      <td>10035</td>\n",
       "    </tr>\n",
       "    <tr>\n",
       "      <th>top</th>\n",
       "      <td>F</td>\n",
       "      <td>mestrado</td>\n",
       "      <td>casado</td>\n",
       "      <td>menos que $40K</td>\n",
       "      <td>blue</td>\n",
       "      <td>1.438,21</td>\n",
       "      <td>3.851,51</td>\n",
       "    </tr>\n",
       "    <tr>\n",
       "      <th>freq</th>\n",
       "      <td>5358</td>\n",
       "      <td>3128</td>\n",
       "      <td>4687</td>\n",
       "      <td>3561</td>\n",
       "      <td>9436</td>\n",
       "      <td>11</td>\n",
       "      <td>3</td>\n",
       "    </tr>\n",
       "  </tbody>\n",
       "</table>\n",
       "</div>"
      ],
      "text/plain": [
       "         sexo escolaridade estado_civil   salario_anual tipo_cartao  \\\n",
       "count   10127         8608         9378            9015       10127   \n",
       "unique      2            5            3               5           4   \n",
       "top         F     mestrado       casado  menos que $40K        blue   \n",
       "freq     5358         3128         4687            3561        9436   \n",
       "\n",
       "       limite_credito valor_transacoes_12m  \n",
       "count           10127                10127  \n",
       "unique           9272                10035  \n",
       "top          1.438,21             3.851,51  \n",
       "freq               11                    3  "
      ]
     },
     "execution_count": 7,
     "metadata": {},
     "output_type": "execute_result"
    }
   ],
   "source": [
    "df.describe(include=\"object\")"
   ]
  },
  {
   "cell_type": "markdown",
   "id": "2527d4a9",
   "metadata": {
    "papermill": {
     "duration": 0.007542,
     "end_time": "2023-04-04T20:56:49.536632",
     "exception": false,
     "start_time": "2023-04-04T20:56:49.529090",
     "status": "completed"
    },
    "tags": []
   },
   "source": [
    "Quantidade de dados faltantes por colunas"
   ]
  },
  {
   "cell_type": "code",
   "execution_count": 8,
   "id": "01369594",
   "metadata": {
    "execution": {
     "iopub.execute_input": "2023-04-04T20:56:49.554137Z",
     "iopub.status.busy": "2023-04-04T20:56:49.553777Z",
     "iopub.status.idle": "2023-04-04T20:56:49.567061Z",
     "shell.execute_reply": "2023-04-04T20:56:49.566067Z"
    },
    "papermill": {
     "duration": 0.024349,
     "end_time": "2023-04-04T20:56:49.568925",
     "exception": false,
     "start_time": "2023-04-04T20:56:49.544576",
     "status": "completed"
    },
    "tags": []
   },
   "outputs": [
    {
     "data": {
      "text/plain": [
       "sexo                       0\n",
       "escolaridade            1519\n",
       "estado_civil             749\n",
       "salario_anual           1112\n",
       "tipo_cartao                0\n",
       "limite_credito             0\n",
       "valor_transacoes_12m       0\n",
       "dtype: int64"
      ]
     },
     "execution_count": 8,
     "metadata": {},
     "output_type": "execute_result"
    }
   ],
   "source": [
    "df.select_dtypes(\"object\").isna().sum()"
   ]
  },
  {
   "cell_type": "markdown",
   "id": "f09a233b",
   "metadata": {
    "papermill": {
     "duration": 0.00775,
     "end_time": "2023-04-04T20:56:49.584748",
     "exception": false,
     "start_time": "2023-04-04T20:56:49.576998",
     "status": "completed"
    },
    "tags": []
   },
   "source": [
    "### Colunas numéricas"
   ]
  },
  {
   "cell_type": "code",
   "execution_count": 9,
   "id": "615c9e28",
   "metadata": {
    "execution": {
     "iopub.execute_input": "2023-04-04T20:56:49.602495Z",
     "iopub.status.busy": "2023-04-04T20:56:49.601599Z",
     "iopub.status.idle": "2023-04-04T20:56:49.639450Z",
     "shell.execute_reply": "2023-04-04T20:56:49.637946Z"
    },
    "papermill": {
     "duration": 0.050051,
     "end_time": "2023-04-04T20:56:49.642632",
     "exception": false,
     "start_time": "2023-04-04T20:56:49.592581",
     "status": "completed"
    },
    "tags": []
   },
   "outputs": [
    {
     "data": {
      "text/html": [
       "<div>\n",
       "<style scoped>\n",
       "    .dataframe tbody tr th:only-of-type {\n",
       "        vertical-align: middle;\n",
       "    }\n",
       "\n",
       "    .dataframe tbody tr th {\n",
       "        vertical-align: top;\n",
       "    }\n",
       "\n",
       "    .dataframe thead th {\n",
       "        text-align: right;\n",
       "    }\n",
       "</style>\n",
       "<table border=\"1\" class=\"dataframe\">\n",
       "  <thead>\n",
       "    <tr style=\"text-align: right;\">\n",
       "      <th></th>\n",
       "      <th>default</th>\n",
       "      <th>idade</th>\n",
       "      <th>dependentes</th>\n",
       "      <th>meses_de_relacionamento</th>\n",
       "      <th>qtd_produtos</th>\n",
       "      <th>iteracoes_12m</th>\n",
       "      <th>meses_inativo_12m</th>\n",
       "      <th>qtd_transacoes_12m</th>\n",
       "    </tr>\n",
       "  </thead>\n",
       "  <tbody>\n",
       "    <tr>\n",
       "      <th>count</th>\n",
       "      <td>10127.000000</td>\n",
       "      <td>10127.000000</td>\n",
       "      <td>10127.000000</td>\n",
       "      <td>10127.000000</td>\n",
       "      <td>10127.000000</td>\n",
       "      <td>10127.000000</td>\n",
       "      <td>10127.000000</td>\n",
       "      <td>10127.000000</td>\n",
       "    </tr>\n",
       "    <tr>\n",
       "      <th>mean</th>\n",
       "      <td>0.160660</td>\n",
       "      <td>46.325960</td>\n",
       "      <td>2.346203</td>\n",
       "      <td>35.928409</td>\n",
       "      <td>3.812580</td>\n",
       "      <td>2.455317</td>\n",
       "      <td>2.341167</td>\n",
       "      <td>64.858695</td>\n",
       "    </tr>\n",
       "    <tr>\n",
       "      <th>std</th>\n",
       "      <td>0.367235</td>\n",
       "      <td>8.016814</td>\n",
       "      <td>1.298908</td>\n",
       "      <td>7.986416</td>\n",
       "      <td>1.554408</td>\n",
       "      <td>1.106225</td>\n",
       "      <td>1.010622</td>\n",
       "      <td>23.472570</td>\n",
       "    </tr>\n",
       "    <tr>\n",
       "      <th>min</th>\n",
       "      <td>0.000000</td>\n",
       "      <td>26.000000</td>\n",
       "      <td>0.000000</td>\n",
       "      <td>13.000000</td>\n",
       "      <td>1.000000</td>\n",
       "      <td>0.000000</td>\n",
       "      <td>0.000000</td>\n",
       "      <td>10.000000</td>\n",
       "    </tr>\n",
       "    <tr>\n",
       "      <th>25%</th>\n",
       "      <td>0.000000</td>\n",
       "      <td>41.000000</td>\n",
       "      <td>1.000000</td>\n",
       "      <td>31.000000</td>\n",
       "      <td>3.000000</td>\n",
       "      <td>2.000000</td>\n",
       "      <td>2.000000</td>\n",
       "      <td>45.000000</td>\n",
       "    </tr>\n",
       "    <tr>\n",
       "      <th>50%</th>\n",
       "      <td>0.000000</td>\n",
       "      <td>46.000000</td>\n",
       "      <td>2.000000</td>\n",
       "      <td>36.000000</td>\n",
       "      <td>4.000000</td>\n",
       "      <td>2.000000</td>\n",
       "      <td>2.000000</td>\n",
       "      <td>67.000000</td>\n",
       "    </tr>\n",
       "    <tr>\n",
       "      <th>75%</th>\n",
       "      <td>0.000000</td>\n",
       "      <td>52.000000</td>\n",
       "      <td>3.000000</td>\n",
       "      <td>40.000000</td>\n",
       "      <td>5.000000</td>\n",
       "      <td>3.000000</td>\n",
       "      <td>3.000000</td>\n",
       "      <td>81.000000</td>\n",
       "    </tr>\n",
       "    <tr>\n",
       "      <th>max</th>\n",
       "      <td>1.000000</td>\n",
       "      <td>73.000000</td>\n",
       "      <td>5.000000</td>\n",
       "      <td>56.000000</td>\n",
       "      <td>6.000000</td>\n",
       "      <td>6.000000</td>\n",
       "      <td>6.000000</td>\n",
       "      <td>139.000000</td>\n",
       "    </tr>\n",
       "  </tbody>\n",
       "</table>\n",
       "</div>"
      ],
      "text/plain": [
       "            default         idade   dependentes  meses_de_relacionamento  \\\n",
       "count  10127.000000  10127.000000  10127.000000             10127.000000   \n",
       "mean       0.160660     46.325960      2.346203                35.928409   \n",
       "std        0.367235      8.016814      1.298908                 7.986416   \n",
       "min        0.000000     26.000000      0.000000                13.000000   \n",
       "25%        0.000000     41.000000      1.000000                31.000000   \n",
       "50%        0.000000     46.000000      2.000000                36.000000   \n",
       "75%        0.000000     52.000000      3.000000                40.000000   \n",
       "max        1.000000     73.000000      5.000000                56.000000   \n",
       "\n",
       "       qtd_produtos  iteracoes_12m  meses_inativo_12m  qtd_transacoes_12m  \n",
       "count  10127.000000   10127.000000       10127.000000        10127.000000  \n",
       "mean       3.812580       2.455317           2.341167           64.858695  \n",
       "std        1.554408       1.106225           1.010622           23.472570  \n",
       "min        1.000000       0.000000           0.000000           10.000000  \n",
       "25%        3.000000       2.000000           2.000000           45.000000  \n",
       "50%        4.000000       2.000000           2.000000           67.000000  \n",
       "75%        5.000000       3.000000           3.000000           81.000000  \n",
       "max        6.000000       6.000000           6.000000          139.000000  "
      ]
     },
     "execution_count": 9,
     "metadata": {},
     "output_type": "execute_result"
    }
   ],
   "source": [
    "df.drop('id', axis=1).describe(include=\"number\")"
   ]
  },
  {
   "cell_type": "code",
   "execution_count": 10,
   "id": "0fd77a65",
   "metadata": {
    "execution": {
     "iopub.execute_input": "2023-04-04T20:56:49.660538Z",
     "iopub.status.busy": "2023-04-04T20:56:49.660180Z",
     "iopub.status.idle": "2023-04-04T20:56:49.669040Z",
     "shell.execute_reply": "2023-04-04T20:56:49.667478Z"
    },
    "papermill": {
     "duration": 0.019902,
     "end_time": "2023-04-04T20:56:49.670859",
     "exception": false,
     "start_time": "2023-04-04T20:56:49.650957",
     "status": "completed"
    },
    "tags": []
   },
   "outputs": [
    {
     "name": "stdout",
     "output_type": "stream",
     "text": [
      "total adimplentes = 8500 /// 83.93% do total\n"
     ]
    }
   ],
   "source": [
    "tot_adimplente = df[df['default']==0].shape[0]\n",
    "\n",
    "print(f'total adimplentes = {tot_adimplente} /// {round(100*tot_adimplente/tot_linhas,2)}% do total')"
   ]
  },
  {
   "cell_type": "code",
   "execution_count": 11,
   "id": "451c94ad",
   "metadata": {
    "execution": {
     "iopub.execute_input": "2023-04-04T20:56:49.689338Z",
     "iopub.status.busy": "2023-04-04T20:56:49.688950Z",
     "iopub.status.idle": "2023-04-04T20:56:49.696814Z",
     "shell.execute_reply": "2023-04-04T20:56:49.695216Z"
    },
    "papermill": {
     "duration": 0.020358,
     "end_time": "2023-04-04T20:56:49.699465",
     "exception": false,
     "start_time": "2023-04-04T20:56:49.679107",
     "status": "completed"
    },
    "tags": []
   },
   "outputs": [
    {
     "name": "stdout",
     "output_type": "stream",
     "text": [
      "total inadimplentes = 1627 /// 16.07% do total\n"
     ]
    }
   ],
   "source": [
    "tot_inadimplente = df[df['default']==1].shape[0]\n",
    "\n",
    "print(f'total inadimplentes = {tot_inadimplente} /// {round(100*tot_inadimplente/tot_linhas,2)}% do total')"
   ]
  },
  {
   "cell_type": "markdown",
   "id": "6768e2e7",
   "metadata": {
    "papermill": {
     "duration": 0.008188,
     "end_time": "2023-04-04T20:56:49.716102",
     "exception": false,
     "start_time": "2023-04-04T20:56:49.707914",
     "status": "completed"
    },
    "tags": []
   },
   "source": [
    "Verificar se a proporção de dados faltantes é a mesma para os adimplentes e inadimplentes"
   ]
  },
  {
   "cell_type": "code",
   "execution_count": 12,
   "id": "1446af9c",
   "metadata": {
    "execution": {
     "iopub.execute_input": "2023-04-04T20:56:49.734783Z",
     "iopub.status.busy": "2023-04-04T20:56:49.734384Z",
     "iopub.status.idle": "2023-04-04T20:56:49.740702Z",
     "shell.execute_reply": "2023-04-04T20:56:49.739514Z"
    },
    "papermill": {
     "duration": 0.018586,
     "end_time": "2023-04-04T20:56:49.743290",
     "exception": false,
     "start_time": "2023-04-04T20:56:49.724704",
     "status": "completed"
    },
    "tags": []
   },
   "outputs": [],
   "source": [
    "def qtde_faltantes_por_coluna(df: pd.DataFrame) -> None:\n",
    "    \n",
    "    for coluna in df.columns:\n",
    "        \n",
    "        if df[coluna].isna().any():\n",
    "            \n",
    "            qtde_tot,_ = df.shape\n",
    "            qtde_na,_ = df[ df[coluna].isna() ].shape\n",
    "            \n",
    "            print(f'coluna {coluna}: qtde faltantes={qtde_na} /// {round(100*qtde_na/qtde_tot,2)}% do total')"
   ]
  },
  {
   "cell_type": "code",
   "execution_count": 13,
   "id": "7c208c44",
   "metadata": {
    "execution": {
     "iopub.execute_input": "2023-04-04T20:56:49.762556Z",
     "iopub.status.busy": "2023-04-04T20:56:49.761612Z",
     "iopub.status.idle": "2023-04-04T20:56:49.784595Z",
     "shell.execute_reply": "2023-04-04T20:56:49.783564Z"
    },
    "papermill": {
     "duration": 0.03536,
     "end_time": "2023-04-04T20:56:49.787064",
     "exception": false,
     "start_time": "2023-04-04T20:56:49.751704",
     "status": "completed"
    },
    "tags": []
   },
   "outputs": [
    {
     "name": "stdout",
     "output_type": "stream",
     "text": [
      "coluna escolaridade: qtde faltantes=1263 /// 14.86% do total\n",
      "coluna estado_civil: qtde faltantes=620 /// 7.29% do total\n",
      "coluna salario_anual: qtde faltantes=925 /// 10.88% do total\n",
      "----------------------------------------------------------\n",
      "coluna escolaridade: qtde faltantes=256 /// 15.73% do total\n",
      "coluna estado_civil: qtde faltantes=129 /// 7.93% do total\n",
      "coluna salario_anual: qtde faltantes=187 /// 11.49% do total\n"
     ]
    }
   ],
   "source": [
    "#Proporção de dados faltantes para os clientes adimplentes\n",
    "qtde_faltantes_por_coluna(df[df['default']==0])\n",
    "\n",
    "print('----------------------------------------------------------')\n",
    "\n",
    "#Proporção de dados faltantes para os clientes inadimplmentes\n",
    "qtde_faltantes_por_coluna(df[df['default']==1])"
   ]
  },
  {
   "cell_type": "markdown",
   "id": "336d9151",
   "metadata": {
    "papermill": {
     "duration": 0.008081,
     "end_time": "2023-04-04T20:56:49.803625",
     "exception": false,
     "start_time": "2023-04-04T20:56:49.795544",
     "status": "completed"
    },
    "tags": []
   },
   "source": [
    "Como as proporções acima são equivalentes, será possível remover as tuplas com dados faltantes no dataset"
   ]
  },
  {
   "cell_type": "markdown",
   "id": "80944947",
   "metadata": {
    "id": "y9Jx_LUycbFJ",
    "papermill": {
     "duration": 0.007937,
     "end_time": "2023-04-04T20:56:49.819888",
     "exception": false,
     "start_time": "2023-04-04T20:56:49.811951",
     "status": "completed"
    },
    "tags": []
   },
   "source": [
    "## Transformação e limpeza dos dados"
   ]
  },
  {
   "cell_type": "markdown",
   "id": "bef4a770",
   "metadata": {
    "papermill": {
     "duration": 0.007981,
     "end_time": "2023-04-04T20:56:49.836119",
     "exception": false,
     "start_time": "2023-04-04T20:56:49.828138",
     "status": "completed"
    },
    "tags": []
   },
   "source": [
    "Remoção das linhas com dados faltantes"
   ]
  },
  {
   "cell_type": "code",
   "execution_count": 14,
   "id": "dd4cd19b",
   "metadata": {
    "execution": {
     "iopub.execute_input": "2023-04-04T20:56:49.853711Z",
     "iopub.status.busy": "2023-04-04T20:56:49.853377Z",
     "iopub.status.idle": "2023-04-04T20:56:49.875125Z",
     "shell.execute_reply": "2023-04-04T20:56:49.873485Z"
    },
    "id": "m4eexYgOcgeZ",
    "papermill": {
     "duration": 0.033621,
     "end_time": "2023-04-04T20:56:49.877789",
     "exception": false,
     "start_time": "2023-04-04T20:56:49.844168",
     "status": "completed"
    },
    "tags": []
   },
   "outputs": [
    {
     "name": "stdout",
     "output_type": "stream",
     "text": [
      "id                            0\n",
      "default                       0\n",
      "idade                         0\n",
      "sexo                          0\n",
      "dependentes                   0\n",
      "escolaridade               1519\n",
      "estado_civil                749\n",
      "salario_anual              1112\n",
      "tipo_cartao                   0\n",
      "meses_de_relacionamento       0\n",
      "qtd_produtos                  0\n",
      "iteracoes_12m                 0\n",
      "meses_inativo_12m             0\n",
      "limite_credito                0\n",
      "valor_transacoes_12m          0\n",
      "qtd_transacoes_12m            0\n",
      "dtype: int64\n",
      "=========================================\n",
      "id                         0\n",
      "default                    0\n",
      "idade                      0\n",
      "sexo                       0\n",
      "dependentes                0\n",
      "escolaridade               0\n",
      "estado_civil               0\n",
      "salario_anual              0\n",
      "tipo_cartao                0\n",
      "meses_de_relacionamento    0\n",
      "qtd_produtos               0\n",
      "iteracoes_12m              0\n",
      "meses_inativo_12m          0\n",
      "limite_credito             0\n",
      "valor_transacoes_12m       0\n",
      "qtd_transacoes_12m         0\n",
      "dtype: int64\n"
     ]
    }
   ],
   "source": [
    "#Qtde de NaN por coluna antes da remoção\n",
    "print(df.isna().sum())\n",
    "\n",
    "print(\"=========================================\")\n",
    "\n",
    "#Remove as linhas com valores NaN\n",
    "df.dropna(inplace=True)\n",
    "\n",
    "#Qtde de NaN por coluna após remoção\n",
    "print(df.isna().sum())"
   ]
  },
  {
   "cell_type": "markdown",
   "id": "bf480a3a",
   "metadata": {
    "papermill": {
     "duration": 0.008015,
     "end_time": "2023-04-04T20:56:49.894643",
     "exception": false,
     "start_time": "2023-04-04T20:56:49.886628",
     "status": "completed"
    },
    "tags": []
   },
   "source": [
    "Alterando as colunas \"limite_credito\" e \"valor_transacoes_12m\" para float"
   ]
  },
  {
   "cell_type": "code",
   "execution_count": 15,
   "id": "4b1e38df",
   "metadata": {
    "execution": {
     "iopub.execute_input": "2023-04-04T20:56:49.914519Z",
     "iopub.status.busy": "2023-04-04T20:56:49.914144Z",
     "iopub.status.idle": "2023-04-04T20:56:49.924036Z",
     "shell.execute_reply": "2023-04-04T20:56:49.923388Z"
    },
    "papermill": {
     "duration": 0.021659,
     "end_time": "2023-04-04T20:56:49.925723",
     "exception": false,
     "start_time": "2023-04-04T20:56:49.904064",
     "status": "completed"
    },
    "tags": []
   },
   "outputs": [
    {
     "data": {
      "text/html": [
       "<div>\n",
       "<style scoped>\n",
       "    .dataframe tbody tr th:only-of-type {\n",
       "        vertical-align: middle;\n",
       "    }\n",
       "\n",
       "    .dataframe tbody tr th {\n",
       "        vertical-align: top;\n",
       "    }\n",
       "\n",
       "    .dataframe thead th {\n",
       "        text-align: right;\n",
       "    }\n",
       "</style>\n",
       "<table border=\"1\" class=\"dataframe\">\n",
       "  <thead>\n",
       "    <tr style=\"text-align: right;\">\n",
       "      <th></th>\n",
       "      <th>limite_credito</th>\n",
       "      <th>valor_transacoes_12m</th>\n",
       "    </tr>\n",
       "  </thead>\n",
       "  <tbody>\n",
       "    <tr>\n",
       "      <th>0</th>\n",
       "      <td>12.691,51</td>\n",
       "      <td>1.144,90</td>\n",
       "    </tr>\n",
       "    <tr>\n",
       "      <th>1</th>\n",
       "      <td>8.256,96</td>\n",
       "      <td>1.291,45</td>\n",
       "    </tr>\n",
       "    <tr>\n",
       "      <th>2</th>\n",
       "      <td>3.418,56</td>\n",
       "      <td>1.887,72</td>\n",
       "    </tr>\n",
       "    <tr>\n",
       "      <th>4</th>\n",
       "      <td>4.716,22</td>\n",
       "      <td>816,08</td>\n",
       "    </tr>\n",
       "    <tr>\n",
       "      <th>5</th>\n",
       "      <td>4.010,69</td>\n",
       "      <td>1.088,07</td>\n",
       "    </tr>\n",
       "  </tbody>\n",
       "</table>\n",
       "</div>"
      ],
      "text/plain": [
       "  limite_credito valor_transacoes_12m\n",
       "0      12.691,51             1.144,90\n",
       "1       8.256,96             1.291,45\n",
       "2       3.418,56             1.887,72\n",
       "4       4.716,22               816,08\n",
       "5       4.010,69             1.088,07"
      ]
     },
     "execution_count": 15,
     "metadata": {},
     "output_type": "execute_result"
    }
   ],
   "source": [
    "colunas = ['limite_credito', 'valor_transacoes_12m']\n",
    "df[colunas].head(n=5)"
   ]
  },
  {
   "cell_type": "code",
   "execution_count": 16,
   "id": "23be9891",
   "metadata": {
    "execution": {
     "iopub.execute_input": "2023-04-04T20:56:49.945447Z",
     "iopub.status.busy": "2023-04-04T20:56:49.945099Z",
     "iopub.status.idle": "2023-04-04T20:56:49.962248Z",
     "shell.execute_reply": "2023-04-04T20:56:49.960605Z"
    },
    "papermill": {
     "duration": 0.030238,
     "end_time": "2023-04-04T20:56:49.964920",
     "exception": false,
     "start_time": "2023-04-04T20:56:49.934682",
     "status": "completed"
    },
    "tags": []
   },
   "outputs": [],
   "source": [
    "#funcao para converter cada linha da coluna\n",
    "funcao = lambda valor: float( valor.replace(\".\", \"\").replace(\",\", \".\") )\n",
    "\n",
    "#aplica para a coluna \"limite_credito\"\n",
    "df['limite_credito'] = df['limite_credito'].apply(funcao)\n",
    "\n",
    "#aplica para a coluna \"valor_transacoes_12m\"\n",
    "df['valor_transacoes_12m'] = df['valor_transacoes_12m'].apply(funcao)"
   ]
  },
  {
   "cell_type": "code",
   "execution_count": 17,
   "id": "bf3765b6",
   "metadata": {
    "execution": {
     "iopub.execute_input": "2023-04-04T20:56:49.984200Z",
     "iopub.status.busy": "2023-04-04T20:56:49.983844Z",
     "iopub.status.idle": "2023-04-04T20:56:49.991558Z",
     "shell.execute_reply": "2023-04-04T20:56:49.990861Z"
    },
    "papermill": {
     "duration": 0.0195,
     "end_time": "2023-04-04T20:56:49.993385",
     "exception": false,
     "start_time": "2023-04-04T20:56:49.973885",
     "status": "completed"
    },
    "tags": []
   },
   "outputs": [
    {
     "data": {
      "text/plain": [
       "limite_credito          float64\n",
       "valor_transacoes_12m    float64\n",
       "dtype: object"
      ]
     },
     "execution_count": 17,
     "metadata": {},
     "output_type": "execute_result"
    }
   ],
   "source": [
    "colunas = ['limite_credito', 'valor_transacoes_12m']\n",
    "df[colunas].dtypes.head(n=5)"
   ]
  },
  {
   "cell_type": "markdown",
   "id": "2390f0ab",
   "metadata": {
    "id": "hSQ8p2gXclY3",
    "papermill": {
     "duration": 0.008295,
     "end_time": "2023-04-04T20:56:50.010468",
     "exception": false,
     "start_time": "2023-04-04T20:56:50.002173",
     "status": "completed"
    },
    "tags": []
   },
   "source": [
    "## Visualização dos dados"
   ]
  },
  {
   "cell_type": "code",
   "execution_count": 18,
   "id": "6e68f3ab",
   "metadata": {
    "execution": {
     "iopub.execute_input": "2023-04-04T20:56:50.029549Z",
     "iopub.status.busy": "2023-04-04T20:56:50.029176Z",
     "iopub.status.idle": "2023-04-04T20:56:50.033931Z",
     "shell.execute_reply": "2023-04-04T20:56:50.032951Z"
    },
    "papermill": {
     "duration": 0.016832,
     "end_time": "2023-04-04T20:56:50.035805",
     "exception": false,
     "start_time": "2023-04-04T20:56:50.018973",
     "status": "completed"
    },
    "tags": []
   },
   "outputs": [],
   "source": [
    "#Estilo basico dos gráficos\n",
    "sns.set_style(\"whitegrid\")"
   ]
  },
  {
   "cell_type": "markdown",
   "id": "82415ae0",
   "metadata": {
    "papermill": {
     "duration": 0.008342,
     "end_time": "2023-04-04T20:56:50.052789",
     "exception": false,
     "start_time": "2023-04-04T20:56:50.044447",
     "status": "completed"
    },
    "tags": []
   },
   "source": [
    "Gero um dataframe pra cada default (adimplentes/inadimplentes)"
   ]
  },
  {
   "cell_type": "code",
   "execution_count": 19,
   "id": "55b20413",
   "metadata": {
    "execution": {
     "iopub.execute_input": "2023-04-04T20:56:50.072093Z",
     "iopub.status.busy": "2023-04-04T20:56:50.071672Z",
     "iopub.status.idle": "2023-04-04T20:56:50.079183Z",
     "shell.execute_reply": "2023-04-04T20:56:50.077966Z"
    },
    "id": "veUP8_RKc_8Z",
    "papermill": {
     "duration": 0.019403,
     "end_time": "2023-04-04T20:56:50.080919",
     "exception": false,
     "start_time": "2023-04-04T20:56:50.061516",
     "status": "completed"
    },
    "tags": []
   },
   "outputs": [],
   "source": [
    "df_adimplente = df[ df['default'] == 0 ]\n",
    "df_inadimplente = df[ df['default'] == 1 ]"
   ]
  },
  {
   "cell_type": "markdown",
   "id": "ac8a3bce",
   "metadata": {
    "papermill": {
     "duration": 0.008399,
     "end_time": "2023-04-04T20:56:50.097938",
     "exception": false,
     "start_time": "2023-04-04T20:56:50.089539",
     "status": "completed"
    },
    "tags": []
   },
   "source": [
    "Comparação da escolaridade X adimplencia"
   ]
  },
  {
   "cell_type": "code",
   "execution_count": 20,
   "id": "39b4f922",
   "metadata": {
    "execution": {
     "iopub.execute_input": "2023-04-04T20:56:50.117075Z",
     "iopub.status.busy": "2023-04-04T20:56:50.116673Z",
     "iopub.status.idle": "2023-04-04T20:56:50.126465Z",
     "shell.execute_reply": "2023-04-04T20:56:50.125553Z"
    },
    "papermill": {
     "duration": 0.021964,
     "end_time": "2023-04-04T20:56:50.128458",
     "exception": false,
     "start_time": "2023-04-04T20:56:50.106494",
     "status": "completed"
    },
    "tags": []
   },
   "outputs": [
    {
     "name": "stdout",
     "output_type": "stream",
     "text": [
      "['ensino medio' 'mestrado' 'sem educacao formal' 'graduacao' 'doutorado']\n"
     ]
    },
    {
     "data": {
      "text/plain": [
       "mestrado               2591\n",
       "ensino medio           1653\n",
       "sem educacao formal    1204\n",
       "graduacao               844\n",
       "doutorado               789\n",
       "Name: escolaridade, dtype: int64"
      ]
     },
     "execution_count": 20,
     "metadata": {},
     "output_type": "execute_result"
    }
   ],
   "source": [
    "lista_escolaridades = df_adimplente['escolaridade'].unique()\n",
    "print(lista_escolaridades)\n",
    "\n",
    "df['escolaridade'].value_counts()"
   ]
  },
  {
   "cell_type": "code",
   "execution_count": 21,
   "id": "bfe3074b",
   "metadata": {
    "execution": {
     "iopub.execute_input": "2023-04-04T20:56:50.148440Z",
     "iopub.status.busy": "2023-04-04T20:56:50.148099Z",
     "iopub.status.idle": "2023-04-04T20:56:50.687069Z",
     "shell.execute_reply": "2023-04-04T20:56:50.685830Z"
    },
    "papermill": {
     "duration": 0.5517,
     "end_time": "2023-04-04T20:56:50.689484",
     "exception": false,
     "start_time": "2023-04-04T20:56:50.137784",
     "status": "completed"
    },
    "tags": []
   },
   "outputs": [
    {
     "data": {
      "image/png": "[encoded data removed]",
      "text/plain": [
       "<Figure size 2000x500 with 3 Axes>"
      ]
     },
     "metadata": {},
     "output_type": "display_data"
    }
   ],
   "source": [
    "coluna = 'escolaridade'\n",
    "titulos = ['Escolaridade dos Clientes', 'Escolaridade dos Clientes Adimplentes', 'Escolaridade dos Clientes Inadimplentes']\n",
    "\n",
    "eixo = 0\n",
    "max_y = 0\n",
    "max = df[coluna].describe()['freq'] * 1.1 #pega o maior valor da coluna 'escolaridade'\n",
    "\n",
    "#3 subplots na mesma linha\n",
    "figura, eixos = plt.subplots(nrows=1, ncols=3, figsize=(20,5), sharex=True)\n",
    "\n",
    "for dataframe in [df, df_adimplente, df_inadimplente]:\n",
    "    \n",
    "    #Quantidade de cada valor (categoria) na coluna\n",
    "    df_to_plot = dataframe[coluna].value_counts().to_frame()\n",
    "    \n",
    "    #Renomeia colunas\n",
    "    df_to_plot.rename( columns = {coluna: 'frequencia_absoluta'}, inplace=True)\n",
    "    \n",
    "    df_to_plot[coluna] = df_to_plot.index\n",
    "    df_to_plot.sort_values(by=[coluna], inplace=True)\n",
    "    df_to_plot.sort_values(by=[coluna])\n",
    "    \n",
    "    f = sns.barplot(x=df_to_plot[coluna], y=df_to_plot['frequencia_absoluta'], ax=eixos[eixo])\n",
    "    \n",
    "    #Titulos do grafico e dos eixos\n",
    "    f.set(title=titulos[eixo], xlabel=coluna.capitalize(), ylabel='Frequência Absoluta')\n",
    "    \n",
    "    #Rotacionar os labels do eixo X\n",
    "    f.set_xticklabels(labels=f.get_xticklabels(), rotation=90)\n",
    "    \n",
    "    _, max_y_f = f.get_ylim()\n",
    "    max_y = max_y_f if max_y_f > max_y else max_y\n",
    "    \n",
    "    f.set(ylim=(0, max_y))\n",
    "    \n",
    "    eixo += 1\n",
    "    \n",
    "figura.show()"
   ]
  },
  {
   "cell_type": "markdown",
   "id": "a6b666bc",
   "metadata": {
    "id": "RzNSMOmVdB5I",
    "papermill": {
     "duration": 0.01043,
     "end_time": "2023-04-04T20:56:50.709772",
     "exception": false,
     "start_time": "2023-04-04T20:56:50.699342",
     "status": "completed"
    },
    "tags": []
   },
   "source": [
    "## Storytelling"
   ]
  }
 ],
 "metadata": {
  "kernelspec": {
   "display_name": "Python 3",
   "language": "python",
   "name": "python3"
  },
  "language_info": {
   "codemirror_mode": {
    "name": "ipython",
    "version": 3
   },
   "file_extension": ".py",
   "mimetype": "text/x-python",
   "name": "python",
   "nbconvert_exporter": "python",
   "pygments_lexer": "ipython3",
   "version": "3.7.12"
  },
  "papermill": {
   "default_parameters": {},
   "duration": 12.560335,
   "end_time": "2023-04-04T20:56:51.442405",
   "environment_variables": {},
   "exception": null,
   "input_path": "__notebook__.ipynb",
   "output_path": "__notebook__.ipynb",
   "parameters": {},
   "start_time": "2023-04-04T20:56:38.882070",
   "version": "2.4.0"
  }
 },
 "nbformat": 4,
 "nbformat_minor": 5
}
